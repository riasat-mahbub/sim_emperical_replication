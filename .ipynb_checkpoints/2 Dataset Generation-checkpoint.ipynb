{
 "cells": [
  {
   "cell_type": "markdown",
   "id": "c1c228efc62dc63d",
   "metadata": {},
   "source": [
    "## Analyze each repository"
   ]
  },
  {
   "cell_type": "code",
   "execution_count": 1,
   "id": "292ed359518c77de",
   "metadata": {
    "ExecuteTime": {
     "end_time": "2024-05-19T19:15:52.195644500Z",
     "start_time": "2024-05-19T18:21:13.378391600Z"
    }
   },
   "outputs": [
    {
     "name": "stdout",
     "output_type": "stream",
     "text": [
      "Analyzingdata\\repos\\simulation\\aerie ...\n",
      "Attempting compilation...\n",
      "Found build.gradle\n",
      "Analyzing ...\n",
      "done analyzing.\n",
      "Analyzingdata\\repos\\simulation\\cas ...\n",
      "Attempting compilation...\n",
      "Found pom.xml\n",
      "Analyzing ...\n",
      "done analyzing.\n",
      "Analyzingdata\\repos\\simulation\\cloudsimplus ...\n",
      "Attempting compilation...\n",
      "Found pom.xml\n",
      "Analyzing ...\n",
      "done analyzing.\n",
      "Analyzingdata\\repos\\simulation\\computer_kurzweil ...\n",
      "Attempting compilation...\n",
      "Found pom.xml\n",
      "Analyzing ...\n",
      "done analyzing.\n",
      "Analyzingdata\\repos\\simulation\\eqasim-java ...\n",
      "Attempting compilation...\n",
      "Found pom.xml\n",
      "Analyzing ...\n",
      "done analyzing.\n",
      "Analyzingdata\\repos\\simulation\\Evolving-Protozoa ...\n",
      "Attempting compilation...\n",
      "Found pom.xml\n",
      "Analyzing ...\n",
      "done analyzing.\n",
      "Analyzingdata\\repos\\simulation\\finmath-lib ...\n",
      "Attempting compilation...\n",
      "Found pom.xml\n",
      "Analyzing ...\n",
      "done analyzing.\n",
      "Analyzingdata\\repos\\simulation\\gama ...\n",
      "Attempting compilation...\n",
      "Did not compile\n",
      "Analyzing ...\n",
      "done analyzing.\n",
      "Analyzingdata\\repos\\simulation\\gips ...\n",
      "Attempting compilation...\n",
      "Did not compile\n",
      "Analyzing ...\n",
      "done analyzing.\n",
      "Analyzingdata\\repos\\simulation\\iflye ...\n",
      "Attempting compilation...\n",
      "Did not compile\n",
      "Analyzing ...\n",
      "done analyzing.\n",
      "Analyzingdata\\repos\\simulation\\mars-sim ...\n",
      "Attempting compilation...\n",
      "Found pom.xml\n",
      "Analyzing ...\n",
      "done analyzing.\n",
      "Analyzingdata\\repos\\simulation\\MATSim-UAM ...\n",
      "Attempting compilation...\n",
      "Found pom.xml\n",
      "Analyzing ...\n",
      "done analyzing.\n",
      "Analyzingdata\\repos\\simulation\\microtrafficsim ...\n",
      "Attempting compilation...\n",
      "Found build.gradle\n",
      "Analyzing ...\n",
      "done analyzing.\n",
      "Analyzingdata\\repos\\simulation\\Mirage ...\n",
      "Attempting compilation...\n",
      "Found pom.xml\n",
      "Analyzing ...\n",
      "done analyzing.\n",
      "Analyzingdata\\repos\\simulation\\MiSim ...\n",
      "Attempting compilation...\n",
      "Found pom.xml\n",
      "Analyzing ...\n",
      "done analyzing.\n",
      "Analyzingdata\\repos\\simulation\\PowerSystemDataModel ...\n",
      "Attempting compilation...\n",
      "Found build.gradle\n",
      "Analyzing ...\n",
      "done analyzing.\n",
      "Analyzingdata\\repos\\simulation\\QSPcc ...\n",
      "Attempting compilation...\n",
      "Did not compile\n",
      "Analyzing ...\n",
      "done analyzing.\n",
      "Analyzingdata\\repos\\simulation\\react-native-ble-peripheral ...\n",
      "Attempting compilation...\n",
      "Did not compile\n",
      "Analyzing ...\n",
      "done analyzing.\n",
      "Analyzingdata\\repos\\simulation\\Robot-Overlord-App ...\n",
      "Attempting compilation...\n",
      "Found pom.xml\n",
      "Analyzing ...\n",
      "done analyzing.\n",
      "Analyzingdata\\repos\\simulation\\ShapeOfThingsThatWere ...\n",
      "Attempting compilation...\n",
      "Found build.gradle\n",
      "Analyzing ...\n",
      "done analyzing.\n",
      "Analyzingdata\\repos\\simulation\\simulation-construction-set-2 ...\n",
      "Attempting compilation...\n",
      "Did not compile\n",
      "Analyzing ...\n",
      "done analyzing.\n",
      "Analyzingdata\\repos\\simulation\\synthea ...\n",
      "Attempting compilation...\n",
      "Found build.gradle\n",
      "Analyzing ...\n",
      "done analyzing.\n",
      "Analyzingdata\\repos\\simulation\\varsim ...\n",
      "Attempting compilation...\n",
      "Found pom.xml\n",
      "Analyzing ...\n",
      "done analyzing.\n",
      "Analyzingdata\\repos\\simulation\\workcraft ...\n",
      "Attempting compilation...\n",
      "Found build.gradle\n",
      "Analyzing ...\n",
      "done analyzing.\n"
     ]
    }
   ],
   "source": [
    "import os\n",
    "import analyze_code\n",
    "\n",
    "repos_path = os.path.join('data', 'repos', 'simulation')\n",
    "analyzed_repos_path = os.path.join('data', 'analyzed_repos', 'simulation')\n",
    "dj_file_path = os.path.join('apps', 'DJ', 'DesigniteJava.jar')\n",
    "\n",
    "for folder in os.listdir(repos_path):\n",
    "    folder_path = os.path.join(repos_path, folder)\n",
    "    result_path = os.path.join(analyzed_repos_path, folder)\n",
    "    if os.path.isdir(folder_path):\n",
    "        analyze_code.analyze_repo(folder_path, result_path, os.path.abspath(dj_file_path))"
   ]
  },
  {
   "cell_type": "code",
   "execution_count": null,
   "id": "eace3e3014844962",
   "metadata": {
    "ExecuteTime": {
     "start_time": "2024-05-19T20:46:16.676081500Z"
    },
    "is_executing": true
   },
   "outputs": [
    {
     "name": "stdout",
     "output_type": "stream",
     "text": [
      "Analyzingdata\\repos\\traditional\\activej ...\n",
      "Attempting compilation...\n",
      "Found pom.xml\n",
      "Analyzing ...\n"
     ]
    }
   ],
   "source": [
    "import os\n",
    "import analyze_code\n",
    "\n",
    "repos_path = os.path.join('data', 'repos', 'traditional')\n",
    "analyzed_repos_path = os.path.join('data', 'analyzed_repos','traditional')\n",
    "dj_file_path = os.path.join('apps', 'DJ', 'DesigniteJava.jar')\n",
    "\n",
    "for folder in os.listdir(repos_path):\n",
    "    folder_path = os.path.join(repos_path, folder)\n",
    "    result_path = os.path.join(analyzed_repos_path, folder)\n",
    "    if os.path.isdir(folder_path):\n",
    "        analyze_code.analyze_repo(folder_path, result_path, os.path.abspath(dj_file_path))"
   ]
  },
  {
   "cell_type": "markdown",
   "id": "1f876037613d707",
   "metadata": {},
   "source": [
    "## Delete Uncompileable folders"
   ]
  },
  {
   "cell_type": "code",
   "execution_count": null,
   "id": "a1881f5fe790bb5",
   "metadata": {
    "is_executing": true
   },
   "outputs": [],
   "source": [
    "import os\n",
    "import shutil\n",
    "import pandas as pd\n",
    "\n",
    "# Define the path to the main folder containing subfolders\n",
    "main_folder = os.path.join('data', 'analyzed_repos','traditional')\n",
    "\n",
    "for subfolder in os.listdir(main_folder):\n",
    "    subfolder_path = os.path.join(main_folder, subfolder)\n",
    "    if os.path.isdir(subfolder_path):\n",
    "        if os.listdir(subfolder_path) == 0:\n",
    "            print(\"Deleting \", subfolder, \" since it is empty\")\n",
    "            os.rmdir(subfolder_path)\n",
    "        \n",
    "        metrics = os.path.join(subfolder_path, \"TypeMetrics.csv\")\n",
    "        if os.path.exists(metrics):\n",
    "            mdf = pd.read_csv(metrics)\n",
    "                \n",
    "            if mdf.empty:\n",
    "                print(\"Deleting \", subfolder, \" since it did not compile\")\n",
    "                shutil.rmtree(subfolder_path)"
   ]
  },
  {
   "cell_type": "code",
   "execution_count": null,
   "id": "a9d085df2f12ea40",
   "metadata": {
    "is_executing": true
   },
   "outputs": [],
   "source": [
    "import os\n",
    "import shutil\n",
    "import pandas as pd\n",
    "\n",
    "# Define the path to the main folder containing subfolders\n",
    "main_folder = os.path.join('data', 'analyzed_repos','simulation')\n",
    "\n",
    "for subfolder in os.listdir(main_folder):\n",
    "    subfolder_path = os.path.join(main_folder, subfolder)\n",
    "    if os.path.isdir(subfolder_path):\n",
    "        if os.listdir(subfolder_path) == 0:\n",
    "            print(\"Deleting \", subfolder, \" since it is empty\")\n",
    "            os.rmdir(subfolder_path)\n",
    "\n",
    "        metrics = os.path.join(subfolder_path, \"TypeMetrics.csv\")\n",
    "        if os.path.exists(metrics):\n",
    "            mdf = pd.read_csv(metrics)\n",
    "\n",
    "            if mdf.empty:\n",
    "                print(\"Deleting \", subfolder, \" since it did not compile\")\n",
    "                shutil.rmtree(subfolder_path)"
   ]
  },
  {
   "cell_type": "markdown",
   "id": "8c4c3b91ce5e52e6",
   "metadata": {},
   "source": [
    "## Group data for each Simulation project "
   ]
  },
  {
   "cell_type": "code",
   "execution_count": null,
   "id": "a4341e9d9f71d55c",
   "metadata": {
    "is_executing": true
   },
   "outputs": [],
   "source": [
    "import os\n",
    "import pandas as pd\n",
    "\n",
    "# Define the path to the main folder containing subfolders\n",
    "main_folder = os.path.join('data', 'analyzed_repos','simulation')\n",
    "\n",
    "# Initialize an empty list to store dataframes\n",
    "idfs = []\n",
    "ddfs = []\n",
    "adfs = []\n",
    "\n",
    "mdfs = []\n",
    "\n",
    "for subfolder in os.listdir(main_folder):\n",
    "    subfolder_path = os.path.join(main_folder, subfolder)\n",
    "    if os.path.isdir(subfolder_path):\n",
    "\n",
    "        implementaion = os.path.join(subfolder_path, \"ImplementationSmells.csv\")\n",
    "        design = os.path.join(subfolder_path, \"DesignSmells.csv\")\n",
    "        arch = os.path.join(subfolder_path, \"ArchitectureSmells.csv\")\n",
    "\n",
    "        metrics = os.path.join(subfolder_path, \"TypeMetrics.csv\")\n",
    "        \n",
    "\n",
    "        try:\n",
    "            if os.path.exists(implementaion):\n",
    "                idf = pd.read_csv(implementaion,on_bad_lines='warn')\n",
    "                if idf.empty:\n",
    "                    continue\n",
    "                idf['Subfolder'] = subfolder\n",
    "                idfs.append(idf)\n",
    "\n",
    "            if os.path.exists(design):\n",
    "                ddf = pd.read_csv(design, on_bad_lines='warn')\n",
    "                if ddf.empty:\n",
    "                    continue\n",
    "                ddf['Subfolder'] = subfolder\n",
    "                ddfs.append(ddf)\n",
    "\n",
    "            if os.path.exists(arch):\n",
    "                adf = pd.read_csv(arch, on_bad_lines='warn')\n",
    "                if adf.empty:\n",
    "                    continue\n",
    "                adf['Subfolder'] = subfolder\n",
    "                adfs.append(adf)\n",
    "\n",
    "            if os.path.exists(metrics):\n",
    "                mdf = pd.read_csv(metrics, on_bad_lines='warn')\n",
    "                if mdf.empty:\n",
    "                    continue\n",
    "                mdf['Subfolder'] = subfolder\n",
    "                mdfs.append(mdf)\n",
    "\n",
    "        except pd.errors.ParserError as e:\n",
    "            print(\"Error parsing \", subfolder)\n",
    "            print(e)\n",
    "\n",
    "irdf = pd.concat(idfs, ignore_index=True)\n",
    "drdf = pd.concat(ddfs, ignore_index=True)\n",
    "ardf = pd.concat(adfs, ignore_index=True)\n",
    "mrdf = pd.concat(mdfs, ignore_index=True)"
   ]
  },
  {
   "cell_type": "code",
   "execution_count": null,
   "id": "3daadc45e33ae355",
   "metadata": {
    "is_executing": true
   },
   "outputs": [],
   "source": [
    "igdf = irdf.groupby(\"Implementation Smell\").size().reset_index(name=\"Count\")\n",
    "igdf.sort_values(by=['Count'], ascending=False)"
   ]
  },
  {
   "cell_type": "code",
   "execution_count": null,
   "id": "6483b5c52fcd1d04",
   "metadata": {
    "is_executing": true
   },
   "outputs": [],
   "source": [
    "dgdf = drdf.groupby(\"Design Smell\").size().reset_index(name=\"Count\")\n",
    "dgdf =  dgdf[dgdf['Design Smell'].str.len() < 100]\n",
    "dgdf.sort_values(by=['Count'], ascending=False)"
   ]
  },
  {
   "cell_type": "code",
   "execution_count": null,
   "id": "7d6e5174078293c0",
   "metadata": {
    "is_executing": true
   },
   "outputs": [],
   "source": [
    "agdf = ardf.groupby(\"Architecture Smell\").size().reset_index(name=\"Count\")\n",
    "agdf =  agdf[agdf['Architecture Smell'].str.len() < 90]\n",
    "agdf.sort_values(by=['Count'], ascending=False)"
   ]
  },
  {
   "cell_type": "code",
   "execution_count": null,
   "id": "e808a95370f44f70",
   "metadata": {
    "is_executing": true
   },
   "outputs": [],
   "source": [
    "mgdf = pd.DataFrame(mrdf.groupby([\"Project Name\"])[\"LOC\"].sum())\n",
    "mgdf.sort_values(by=\"LOC\", ascending=False)\n",
    "mgdf"
   ]
  },
  {
   "cell_type": "markdown",
   "id": "3601897f537d0b95",
   "metadata": {},
   "source": [
    "## Get smell statistics for each Repository"
   ]
  },
  {
   "cell_type": "code",
   "execution_count": null,
   "id": "7c1001f7472f4c4f",
   "metadata": {
    "is_executing": true
   },
   "outputs": [],
   "source": [
    "igdf = irdf.groupby([\"Project Name\", \"Implementation Smell\"]).size().reset_index(name=\"Count\")\n",
    "igdf = igdf[igdf['Project Name'].str.len() < 90]\n",
    "igdf.sort_values(by=['Count'], ascending=False)\n",
    "\n",
    "migdf = pd.merge(mgdf, igdf, on=[\"Project Name\"], how=\"inner\")\n",
    "migdf['Avg'] = migdf['Count'] / migdf['LOC']\n",
    "migdf.to_csv(\"Implementation Smell Simulation Group.csv\")\n",
    "migdf"
   ]
  },
  {
   "cell_type": "code",
   "execution_count": null,
   "id": "7a54caaa49c54e12",
   "metadata": {
    "is_executing": true
   },
   "outputs": [],
   "source": [
    "dgdf = drdf.groupby([\"Project Name\", \"Design Smell\"]).size().reset_index(name=\"Count\")\n",
    "dgdf = dgdf[dgdf['Project Name'].str.len() < 90]\n",
    "dgdf.sort_values(by=['Count'], ascending=False)\n",
    "\n",
    "mdgdf = pd.merge(mgdf, dgdf, on=[\"Project Name\"], how=\"inner\")\n",
    "mdgdf['Avg'] = mdgdf['Count'] / mdgdf['LOC']\n",
    "mdgdf.to_csv(\"Design Smell Simulation Group.csv\")\n",
    "mdgdf"
   ]
  },
  {
   "cell_type": "code",
   "execution_count": null,
   "id": "b983bddf1c10ecec",
   "metadata": {
    "is_executing": true
   },
   "outputs": [],
   "source": [
    "agdf = ardf.groupby([\"Project Name\", \"Architecture Smell\"]).size().reset_index(name=\"Count\")\n",
    "agdf =  agdf[agdf['Project Name'].str.len() < 90]\n",
    "agdf.sort_values(by=['Count'], ascending=False)\n",
    "\n",
    "magdf = pd.merge(mgdf, agdf, on=[\"Project Name\"], how=\"inner\")\n",
    "magdf['Avg'] = magdf['Count'] / magdf['LOC']\n",
    "magdf.to_csv(\"Architecture Smell Simulation Group.csv\")\n",
    "magdf"
   ]
  },
  {
   "cell_type": "markdown",
   "id": "8b10132907237212",
   "metadata": {},
   "source": [
    "## Group data for each Traditional project"
   ]
  },
  {
   "cell_type": "code",
   "execution_count": null,
   "id": "68cd8118006fd4d7",
   "metadata": {
    "is_executing": true
   },
   "outputs": [],
   "source": [
    "import pandas as pd\n",
    "\n",
    "def remove_outliers(df, columns, threshold=3):\n",
    "    df_no_outliers = df.copy()\n",
    "    for column in columns:\n",
    "        mean = df[column].mean()\n",
    "        std = df[column].std()\n",
    "        lower_bound = mean - threshold * std\n",
    "        upper_bound = mean + threshold * std\n",
    "        df_no_outliers = df_no_outliers[(df_no_outliers[column] >= lower_bound) & (df_no_outliers[column] <= upper_bound)]\n",
    "    return df_no_outliers\n",
    "\n"
   ]
  },
  {
   "cell_type": "code",
   "execution_count": null,
   "id": "210ac42c7e70f724",
   "metadata": {
    "is_executing": true
   },
   "outputs": [],
   "source": [
    "import os\n",
    "import pandas as pd\n",
    "\n",
    "# Define the path to the main folder containing subfolders\n",
    "main_folder = os.path.join('data', 'analyzed_repos','traditional')\n",
    "\n",
    "# Initialize an empty list to store dataframes\n",
    "idfs = []\n",
    "ddfs = []\n",
    "adfs = []\n",
    "\n",
    "mdfs = []\n",
    "\n",
    "for subfolder in os.listdir(main_folder):\n",
    "    subfolder_path = os.path.join(main_folder, subfolder)\n",
    "    if os.path.isdir(subfolder_path):\n",
    "\n",
    "        implementaion = os.path.join(subfolder_path, \"ImplementationSmells.csv\")\n",
    "        design = os.path.join(subfolder_path, \"DesignSmells.csv\")\n",
    "        arch = os.path.join(subfolder_path, \"ArchitectureSmells.csv\")\n",
    "\n",
    "        metrics = os.path.join(subfolder_path, \"TypeMetrics.csv\")\n",
    "\n",
    "        try:\n",
    "            if os.path.exists(implementaion):\n",
    "                idf = pd.read_csv(implementaion,on_bad_lines='warn')\n",
    "                idf['Subfolder'] = subfolder\n",
    "                idfs.append(idf)\n",
    "\n",
    "            if os.path.exists(design):\n",
    "                ddf = pd.read_csv(design, on_bad_lines='warn')\n",
    "                ddf['Subfolder'] = subfolder\n",
    "                ddfs.append(ddf)\n",
    "\n",
    "            if os.path.exists(arch):\n",
    "                adf = pd.read_csv(arch, on_bad_lines='warn')\n",
    "                adf['Subfolder'] = subfolder\n",
    "                adfs.append(adf)\n",
    "\n",
    "            if os.path.exists(metrics):\n",
    "                mdf = pd.read_csv(metrics, on_bad_lines='warn')\n",
    "                mdf['Subfolder'] = subfolder\n",
    "                mdfs.append(mdf)\n",
    "\n",
    "        except pd.errors.ParserError as e:\n",
    "            print(\"Error parsing \", subfolder)\n",
    "            print(e)\n",
    "\n",
    "irdf = pd.concat(idfs, ignore_index=True)\n",
    "drdf = pd.concat(ddfs, ignore_index=True)\n",
    "ardf = pd.concat(adfs, ignore_index=True)\n",
    "mrdf = pd.concat(mdfs, ignore_index=True)"
   ]
  },
  {
   "cell_type": "code",
   "execution_count": null,
   "id": "b2057ec5efc8d391",
   "metadata": {
    "is_executing": true
   },
   "outputs": [],
   "source": [
    "igdf = irdf.groupby(\"Implementation Smell\").size().reset_index(name=\"Count\")\n",
    "igdf.sort_values(by=['Count'], ascending=False)"
   ]
  },
  {
   "cell_type": "code",
   "execution_count": null,
   "id": "b90c92c3efe4b4db",
   "metadata": {
    "is_executing": true
   },
   "outputs": [],
   "source": [
    "dgdf = drdf.groupby(\"Design Smell\").size().reset_index(name=\"Count\")\n",
    "dgdf =  dgdf[dgdf['Design Smell'].str.len() < 100]\n",
    "dgdf.sort_values(by=['Count'], ascending=False)"
   ]
  },
  {
   "cell_type": "code",
   "execution_count": null,
   "id": "b3588c54bedec65c",
   "metadata": {
    "is_executing": true
   },
   "outputs": [],
   "source": [
    "agdf = ardf.groupby(\"Architecture Smell\").size().reset_index(name=\"Count\")\n",
    "agdf = agdf[agdf['Architecture Smell'].str.len() < 90]\n",
    "agdf.sort_values(by=['Count'], ascending=False)"
   ]
  },
  {
   "cell_type": "code",
   "execution_count": null,
   "id": "a06e7167f990b6fe",
   "metadata": {
    "is_executing": true
   },
   "outputs": [],
   "source": [
    "mgdf = pd.DataFrame(mrdf.groupby([\"Project Name\"])[\"LOC\"].sum())\n",
    "mgdf.sort_values(by=\"LOC\", ascending=False)\n",
    "mgdf"
   ]
  },
  {
   "cell_type": "markdown",
   "id": "355fbf7155a6c276",
   "metadata": {},
   "source": [
    "## Get Smell statistics for each repository"
   ]
  },
  {
   "cell_type": "code",
   "execution_count": null,
   "id": "d4e26e78ed904c9b",
   "metadata": {
    "is_executing": true
   },
   "outputs": [],
   "source": [
    "igdf = irdf.groupby([\"Project Name\", \"Implementation Smell\"]).size().reset_index(name=\"Count\")\n",
    "igdf = igdf[igdf['Project Name'].str.len() < 90]\n",
    "igdf.sort_values(by=['Count'], ascending=False)\n",
    "\n",
    "migdf = pd.merge(mgdf, igdf, on=[\"Project Name\"], how=\"inner\")\n",
    "migdf = migdf[migdf['LOC'] != 0]\n",
    "migdf['Avg'] = migdf['Count'] / migdf['LOC']\n",
    "migdf.to_csv(\"Implementation Smell Traditional Group.csv\")\n",
    "migdf"
   ]
  },
  {
   "cell_type": "code",
   "execution_count": null,
   "id": "2b71f192eda8a5a3",
   "metadata": {
    "is_executing": true
   },
   "outputs": [],
   "source": [
    "migdf = remove_outliers(migdf, ['Avg'])\n",
    "migdf.to_csv(\"Implementation Smell Traditional Group.csv\")\n",
    "migdf"
   ]
  },
  {
   "cell_type": "code",
   "execution_count": null,
   "id": "727d056206ea862d",
   "metadata": {
    "is_executing": true
   },
   "outputs": [],
   "source": [
    "dgdf = drdf.groupby([\"Project Name\", \"Design Smell\"]).size().reset_index(name=\"Count\")\n",
    "dgdf = dgdf[dgdf['Project Name'].str.len() < 90]\n",
    "dgdf.sort_values(by=['Count'], ascending=False)\n",
    "\n",
    "mdgdf = pd.merge(mgdf, dgdf, on=[\"Project Name\"], how=\"inner\")\n",
    "mdgdf = mdgdf[mdgdf[\"LOC\"] !=0]\n",
    "mdgdf['Avg'] = mdgdf['Count'] / mdgdf['LOC']\n",
    "mdgdf.to_csv(\"Design Smell Traditional Group.csv\")\n",
    "mdgdf"
   ]
  },
  {
   "cell_type": "code",
   "execution_count": null,
   "id": "4507395801d4756b",
   "metadata": {
    "is_executing": true
   },
   "outputs": [],
   "source": [
    "mdgdf = remove_outliers(mdgdf, ['Avg'])\n",
    "mdgdf.to_csv(\"Design Smell Traditional Group.csv\")\n",
    "mdgdf"
   ]
  },
  {
   "cell_type": "code",
   "execution_count": null,
   "id": "b3441cd306c05589",
   "metadata": {
    "is_executing": true
   },
   "outputs": [],
   "source": [
    "agdf = ardf.groupby([\"Project Name\", \"Architecture Smell\"]).size().reset_index(name=\"Count\")\n",
    "agdf =  agdf[agdf['Project Name'].str.len() < 90]\n",
    "agdf.sort_values(by=['Count'], ascending=False)\n",
    "\n",
    "magdf = pd.merge(mgdf, agdf, on=[\"Project Name\"], how=\"inner\")\n",
    "magdf['Avg'] = magdf['Count'] / magdf['LOC']\n",
    "magdf.to_csv(\"Architecture Smell Traditional Group.csv\")\n",
    "magdf"
   ]
  },
  {
   "cell_type": "code",
   "execution_count": null,
   "id": "858d64594fb0680b",
   "metadata": {
    "is_executing": true
   },
   "outputs": [],
   "source": [
    "magdf = remove_outliers(magdf, ['Avg'])\n",
    "magdf.to_csv(\"Architecture Smell Traditional Group.csv\")\n",
    "magdf"
   ]
  },
  {
   "cell_type": "code",
   "execution_count": null,
   "id": "e044ab27",
   "metadata": {},
   "outputs": [],
   "source": []
  }
 ],
 "metadata": {
  "kernelspec": {
   "display_name": "Python 3 (ipykernel)",
   "language": "python",
   "name": "python3"
  },
  "language_info": {
   "codemirror_mode": {
    "name": "ipython",
    "version": 3
   },
   "file_extension": ".py",
   "mimetype": "text/x-python",
   "name": "python",
   "nbconvert_exporter": "python",
   "pygments_lexer": "ipython3",
   "version": "3.11.8"
  }
 },
 "nbformat": 4,
 "nbformat_minor": 5
}
