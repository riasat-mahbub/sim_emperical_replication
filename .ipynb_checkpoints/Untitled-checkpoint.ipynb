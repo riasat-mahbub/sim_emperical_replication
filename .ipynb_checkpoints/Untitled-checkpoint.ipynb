{
 "cells": [
  {
   "cell_type": "code",
   "execution_count": 7,
   "id": "f6a934d6",
   "metadata": {},
   "outputs": [
    {
     "name": "stderr",
     "output_type": "stream",
     "text": [
      "Some weights of the model checkpoint at dbmdz/bert-large-cased-finetuned-conll03-english were not used when initializing BertForTokenClassification: ['bert.pooler.dense.bias', 'bert.pooler.dense.weight']\n",
      "- This IS expected if you are initializing BertForTokenClassification from the checkpoint of a model trained on another task or with another architecture (e.g. initializing a BertForSequenceClassification model from a BertForPreTraining model).\n",
      "- This IS NOT expected if you are initializing BertForTokenClassification from the checkpoint of a model that you expect to be exactly identical (initializing a BertForSequenceClassification model from a BertForSequenceClassification model).\n"
     ]
    }
   ],
   "source": [
    "import pandas as pd\n",
    "from transformers import pipeline\n",
    "\n",
    "ner_model = pipeline(\"ner\", model=\"dbmdz/bert-large-cased-finetuned-conll03-english\")\n"
   ]
  },
  {
   "cell_type": "code",
   "execution_count": 23,
   "id": "09ad131e",
   "metadata": {},
   "outputs": [],
   "source": [
    "from markdown import Markdown\n",
    "from io import StringIO\n",
    "from bs4 import BeautifulSoup\n",
    "\n",
    "def unmark_element(element, stream=None):\n",
    "    if stream is None:\n",
    "        stream = StringIO()\n",
    "    if element.text:\n",
    "        stream.write(element.text)\n",
    "    for sub in element:\n",
    "        unmark_element(sub, stream)\n",
    "    if element.tail:\n",
    "        stream.write(element.tail)\n",
    "    return stream.getvalue()\n",
    "\n",
    "\n",
    "# patching Markdown\n",
    "Markdown.output_formats[\"plain\"] = unmark_element\n",
    "__md = Markdown(output_format=\"plain\")\n",
    "__md.stripTopLevelTags = False\n",
    "\n",
    "\n",
    "def unmark(text):\n",
    "    return __md.convert(text)"
   ]
  },
  {
   "cell_type": "code",
   "execution_count": 24,
   "id": "4347c586",
   "metadata": {},
   "outputs": [],
   "source": [
    "def remove_html_tags(text):\n",
    "    soup = BeautifulSoup(text, \"html.parser\")\n",
    "    clean_text = soup.get_text()\n",
    "    return clean_text"
   ]
  },
  {
   "cell_type": "code",
   "execution_count": 25,
   "id": "7841d935",
   "metadata": {},
   "outputs": [],
   "source": [
    "def remove_excessive_newlines(text):\n",
    "    cleaned_text = re.sub(r'\\n+', '\\n', text)\n",
    "    cleaned_text = cleaned_text.strip()\n",
    "    return cleaned_text"
   ]
  },
  {
   "cell_type": "code",
   "execution_count": 26,
   "id": "dab94c4a",
   "metadata": {},
   "outputs": [],
   "source": [
    "def summarize_text(text, max_length=130, min_length=30):\n",
    "    summarizer = pipeline('summarization', model='facebook/bart-large-cnn')\n",
    "    try:\n",
    "        summary = summarizer(text, max_length=max_length, min_length=min_length, do_sample=False)\n",
    "    except Exception as e:\n",
    "        print(\"Cannot Summarize\")\n",
    "        return \"No summary\"\n",
    "    \n",
    "    return summary[0]['summary_text']"
   ]
  },
  {
   "cell_type": "code",
   "execution_count": 27,
   "id": "347d1668",
   "metadata": {},
   "outputs": [],
   "source": [
    "def summarize_helper(readme_file):\n",
    "    with open(readme_file, \"r\", encoding='utf-8') as file:\n",
    "        readme_content = file.read()\n",
    "\n",
    "    plain_text_content = markdown_to_text(readme_content)\n",
    "    \n",
    "    summary = summarize_text(plain_text_content)\n",
    "    \n",
    "    return {'original_text': plain_text_content, 'summary': summary}"
   ]
  },
  {
   "cell_type": "code",
   "execution_count": 41,
   "id": "ec322ba0",
   "metadata": {},
   "outputs": [],
   "source": [
    "import pandas as pd\n",
    "\n",
    "def tag_readme(readme_file):\n",
    "    with open(readme_file, \"r\", encoding='utf-8') as file:\n",
    "        readme_content = file.read()\n",
    "    \n",
    "    plain_text_content = remove_excessive_newlines(readme_content)\n",
    "    plain_text_content = unmark(plain_text_content)\n",
    "    plain_text_content = remove_html_tags(plain_text_content)\n",
    "\n",
    "    print(plain_text_content)\n",
    "    \n",
    "    return plain_text_content\n",
    "   \n",
    "#     ner_results = ner_model(plain_text_content)\n",
    "\n",
    "#     entities = {}\n",
    "#     for result in ner_results:\n",
    "#         entity = result['entity']\n",
    "#         word = result['word']\n",
    "#         if entity not in entities:\n",
    "#             entities[entity] = {}\n",
    "#         if word not in entities[entity]:\n",
    "#             entities[entity][word] = 0\n",
    "#         entities[entity][word] += 1\n",
    "\n",
    "#     entity_totals = {entity: sum(words.values()) for entity, words in entities.items()}\n",
    "\n",
    "#     detailed_data = []\n",
    "#     for entity, words in entities.items():\n",
    "#         for word, count in words.items():\n",
    "#             detailed_data.append({'Entity': entity, 'Word': word, 'Word Count': count, 'Total Count': entity_totals[entity]})\n",
    "\n",
    "  \n",
    "#     detailed_df = pd.DataFrame(detailed_data)\n",
    "\n",
    "#     total_data = [{'Entity': entity, 'Total Count': total_count} for entity, total_count in entity_totals.items()]\n",
    "\n",
    "#     total_df = pd.DataFrame(total_data)\n",
    "#     return [detailed_df, total_df]"
   ]
  },
  {
   "cell_type": "code",
   "execution_count": 42,
   "id": "04c3bbeb",
   "metadata": {},
   "outputs": [
    {
     "name": "stdout",
     "output_type": "stream",
     "text": [
      "[![slack](https://img.shields.io/badge/slack-aerie-brightgreen?logo=slack)](https://join.slack.com/t/nasa-ammos/shared_invite/zt-1mlgmk5c2-MgqVSyKzVRUWrXy87FNqPw)\n",
      "<br>\n",
      "<div align=\"center\">\n",
      "  <img alt=\"Aerie\" height=\"85\" src=\"docs/img/aerie-wordmark-with-background.svg\">\n",
      "</div>\n",
      "<br>\n",
      "Aerie is a software framework for modeling spacecraft. Its main features include:\n",
      "- A Java-based mission modeling library\n",
      "- A discrete-event simulator\n",
      "- An embedded TypeScript DSL for defining and executing scheduling goals\n",
      "- An embedded TypeScript DSL for defining and executing constraints\n",
      "- An embedded TypeScript DSL for defining and executing activity command expansions\n",
      "- An embedded TypeScript DSL for defining sequences\n",
      "- A [GraphQL API](https://nasa-ammos.github.io/aerie-docs/api/introduction)\n",
      "- A web-based [client application][ui-repo]\n",
      "## Getting Started\n",
      "To get started using Aerie for the first time please do our [fast track tutorial][fast-track] on our documentation website.\n",
      "## Need Help?\n",
      "- Join us on the [NASA-AMMOS Slack](https://join.slack.com/t/nasa-ammos/shared_invite/zt-1mlgmk5c2-MgqVSyKzVRUWrXy87FNqPw) (#aerie-users)\n",
      "- Contact aerie-support@googlegroups.com\n",
      "## News and Updates\n",
      "- Join the [Aerie Users](https://groups.google.com/u/3/g/aerie-users) group to stay up to date on news, releases, and our project roadmap. \n",
      "## Directory Structure\n",
      "```sh\n",
      ".\n",
      "├── .github                     # GitHub metadata\n",
      "├── constraints                 # Java library for constraint checking\n",
      "├── contrib                     # Java convenience classes for mission models\n",
      "├── db-tests                    # Database unit tests\n",
      "├── deployment                  # Deployment artifacts and documentation\n",
      "├── docker                      # Additional Dockerfiles for Aerie-specific images\n",
      "├── docs                        # Documentation\n",
      "├── e2e-tests                   # End-to-end tests\n",
      "├── examples                    # Example mission models\n",
      "├── gradle                      # Gradle Wrapper\n",
      "├── load-tests                  # Load testing code and configuration\n",
      "├── merlin-driver               # Java library for discrete-event simulation\n",
      "├── merlin-framework            # Java library for mission modeling\n",
      "├── merlin-framework-junit      # Extension of JUnit to unit test mission models\n",
      "├── merlin-framework-processor  # Java annotation processor for mission models\n",
      "├── merlin-sdk                  # Java interface between mission models and the merlin-driver\n",
      "├── merlin-server               # Service for planning and simulation\n",
      "├── merlin-worker               # Worker for executing simulations\n",
      "├── parsing-utilities           # Java classes for JSON serialization and deserialization\n",
      "├── permissions                 # Java library for authorizing endpoint requests\n",
      "├── scheduler-driver            # Java library for goal-oriented scheduling\n",
      "├── scheduler-server            # Service for scheduling\n",
      "├── scheduler-worker            # Worker for executing scheduling goals\n",
      "├── sequencing-server           # Service for sequence generation and management\n",
      "└── third-party                 # External Java dependencies that are not obtained from Maven\n",
      "```\n",
      "## Want to help?\n",
      "Want to file a bug, contribute some code, or improve documentation? Excellent! Read up on our guidelines for [contributing][contributing]. If you are a developer you can get started quickly by reading the [developer documentation][dev].\n",
      "## License\n",
      "The scripts and documentation in this project are released under the [MIT License](LICENSE).\n",
      "[contributing]: ./docs/CONTRIBUTING.md\n",
      "[deployment]: ./deployment\n",
      "[dev]: ./docs/DEVELOPER.md\n",
      "[fast-track]: https://nasa-ammos.github.io/aerie-docs/introduction/#fast-track\n",
      "[ui-repo]: https://github.com/NASA-AMMOS/aerie-ui\n",
      "Total folders deleted 0\n"
     ]
    }
   ],
   "source": [
    "import os\n",
    "import shutil\n",
    "import re\n",
    "\n",
    "repos_path = os.path.join('data', 'repos', 'simulation')\n",
    "analyzed_repos_path = os.path.join('data', 'analyzed_repos', 'simulation')\n",
    "dj_file_path = os.path.join('apps', 'DJ', 'DesigniteJava.jar')\n",
    "\n",
    "\n",
    "count = 0\n",
    "for folder in os.listdir(repos_path):\n",
    "    folder_path = os.path.join(repos_path, folder)\n",
    "    readme_file = os.path.join(folder_path, 'README.md')\n",
    "    \n",
    "    if os.path.exists(readme_file):\n",
    "        dfs = tag_readme(readme_file)\n",
    "        \n",
    "        break\n",
    "        df = dfs[0]\n",
    "        ndf = dfs[1]\n",
    "        df.to_csv(os.path.join(folder_path, \"entities.csv\"), index=False)\n",
    "        ndf.to_csv(os.path.join(folder_path, \"total_entities.csv\"), index=False)\n",
    "        print(\"entities written to \", folder_path)\n",
    "    else:\n",
    "        try:\n",
    "            shutil.rmtree(folder_path)\n",
    "            count +=1\n",
    "            print(f\"Folder '{folder_path}' has been deleted\")\n",
    "        except OSError as e:\n",
    "            print(f\"Error: {e}. Folder '{folder_path}' is not empty or cannot be deleted\")\n",
    "\n",
    "print(\"Total folders deleted\", count)"
   ]
  },
  {
   "cell_type": "code",
   "execution_count": 18,
   "id": "b441b610",
   "metadata": {},
   "outputs": [
    {
     "name": "stdout",
     "output_type": "stream",
     "text": [
      "The readme is summarized for  data\\repos\\simulation\\adf-sample-agent-java\n",
      "The readme is summarized for  data\\repos\\simulation\\aerie\n",
      "The readme is summarized for  data\\repos\\simulation\\AgentWorkbench\n"
     ]
    },
    {
     "name": "stderr",
     "output_type": "stream",
     "text": [
      "Token indices sequence length is longer than the specified maximum sequence length for this model (1081 > 1024). Running this sequence through the model will result in indexing errors\n"
     ]
    },
    {
     "name": "stdout",
     "output_type": "stream",
     "text": [
      "Cannot Summarize\n",
      "The readme is summarized for  data\\repos\\simulation\\amod\n"
     ]
    },
    {
     "name": "stderr",
     "output_type": "stream",
     "text": [
      "Token indices sequence length is longer than the specified maximum sequence length for this model (2039 > 1024). Running this sequence through the model will result in indexing errors\n"
     ]
    },
    {
     "name": "stdout",
     "output_type": "stream",
     "text": [
      "Cannot Summarize\n",
      "The readme is summarized for  data\\repos\\simulation\\amodeus\n",
      "The readme is summarized for  data\\repos\\simulation\\annotation-simulator\n",
      "The readme is summarized for  data\\repos\\simulation\\AutoInteraction-Library\n",
      "The readme is summarized for  data\\repos\\simulation\\Black-Scholes-Option-Pricing-Model\n"
     ]
    },
    {
     "name": "stderr",
     "output_type": "stream",
     "text": [
      "Token indices sequence length is longer than the specified maximum sequence length for this model (3211 > 1024). Running this sequence through the model will result in indexing errors\n"
     ]
    },
    {
     "name": "stdout",
     "output_type": "stream",
     "text": [
      "Cannot Summarize\n",
      "The readme is summarized for  data\\repos\\simulation\\BoomChess-Android\n"
     ]
    },
    {
     "name": "stderr",
     "output_type": "stream",
     "text": [
      "Token indices sequence length is longer than the specified maximum sequence length for this model (1200 > 1024). Running this sequence through the model will result in indexing errors\n"
     ]
    },
    {
     "name": "stdout",
     "output_type": "stream",
     "text": [
      "Cannot Summarize\n",
      "The readme is summarized for  data\\repos\\simulation\\cas\n"
     ]
    },
    {
     "name": "stderr",
     "output_type": "stream",
     "text": [
      "Token indices sequence length is longer than the specified maximum sequence length for this model (4070 > 1024). Running this sequence through the model will result in indexing errors\n"
     ]
    },
    {
     "name": "stdout",
     "output_type": "stream",
     "text": [
      "Cannot Summarize\n",
      "The readme is summarized for  data\\repos\\simulation\\cloudsimplus\n"
     ]
    },
    {
     "name": "stderr",
     "output_type": "stream",
     "text": [
      "Token indices sequence length is longer than the specified maximum sequence length for this model (1598 > 1024). Running this sequence through the model will result in indexing errors\n"
     ]
    },
    {
     "name": "stdout",
     "output_type": "stream",
     "text": [
      "Cannot Summarize\n",
      "The readme is summarized for  data\\repos\\simulation\\cloudsimplus-automation\n",
      "The readme is summarized for  data\\repos\\simulation\\cloudsimplus-examples\n"
     ]
    },
    {
     "name": "stderr",
     "output_type": "stream",
     "text": [
      "Token indices sequence length is longer than the specified maximum sequence length for this model (3521 > 1024). Running this sequence through the model will result in indexing errors\n"
     ]
    },
    {
     "name": "stdout",
     "output_type": "stream",
     "text": [
      "Cannot Summarize\n",
      "The readme is summarized for  data\\repos\\simulation\\cloudsimsdn\n"
     ]
    },
    {
     "name": "stderr",
     "output_type": "stream",
     "text": [
      "Token indices sequence length is longer than the specified maximum sequence length for this model (3922 > 1024). Running this sequence through the model will result in indexing errors\n"
     ]
    },
    {
     "name": "stdout",
     "output_type": "stream",
     "text": [
      "Cannot Summarize\n",
      "The readme is summarized for  data\\repos\\simulation\\computer_kurzweil\n"
     ]
    },
    {
     "name": "stderr",
     "output_type": "stream",
     "text": [
      "Token indices sequence length is longer than the specified maximum sequence length for this model (18523 > 1024). Running this sequence through the model will result in indexing errors\n"
     ]
    },
    {
     "name": "stdout",
     "output_type": "stream",
     "text": [
      "Cannot Summarize\n",
      "The readme is summarized for  data\\repos\\simulation\\DesSim\n"
     ]
    },
    {
     "name": "stderr",
     "output_type": "stream",
     "text": [
      "Token indices sequence length is longer than the specified maximum sequence length for this model (1601 > 1024). Running this sequence through the model will result in indexing errors\n"
     ]
    },
    {
     "name": "stdout",
     "output_type": "stream",
     "text": [
      "Cannot Summarize\n",
      "The readme is summarized for  data\\repos\\simulation\\ecosim\n"
     ]
    },
    {
     "name": "stderr",
     "output_type": "stream",
     "text": [
      "Your max_length is set to 130, but your input_length is only 45. Since this is a summarization task, where outputs shorter than the input are typically wanted, you might consider decreasing max_length manually, e.g. summarizer('...', max_length=22)\n"
     ]
    },
    {
     "name": "stdout",
     "output_type": "stream",
     "text": [
      "The readme is summarized for  data\\repos\\simulation\\end-game\n",
      "The readme is summarized for  data\\repos\\simulation\\eqasim-java\n"
     ]
    },
    {
     "name": "stderr",
     "output_type": "stream",
     "text": [
      "Token indices sequence length is longer than the specified maximum sequence length for this model (1640 > 1024). Running this sequence through the model will result in indexing errors\n"
     ]
    },
    {
     "name": "stdout",
     "output_type": "stream",
     "text": [
      "Cannot Summarize\n",
      "The readme is summarized for  data\\repos\\simulation\\EVLib\n"
     ]
    },
    {
     "name": "stderr",
     "output_type": "stream",
     "text": [
      "Token indices sequence length is longer than the specified maximum sequence length for this model (2169 > 1024). Running this sequence through the model will result in indexing errors\n"
     ]
    },
    {
     "name": "stdout",
     "output_type": "stream",
     "text": [
      "Cannot Summarize\n",
      "The readme is summarized for  data\\repos\\simulation\\Evolving-Protozoa\n"
     ]
    },
    {
     "name": "stderr",
     "output_type": "stream",
     "text": [
      "Token indices sequence length is longer than the specified maximum sequence length for this model (2270 > 1024). Running this sequence through the model will result in indexing errors\n"
     ]
    },
    {
     "name": "stdout",
     "output_type": "stream",
     "text": [
      "Cannot Summarize\n",
      "The readme is summarized for  data\\repos\\simulation\\finmath-lib\n"
     ]
    },
    {
     "name": "stderr",
     "output_type": "stream",
     "text": [
      "Token indices sequence length is longer than the specified maximum sequence length for this model (1389 > 1024). Running this sequence through the model will result in indexing errors\n"
     ]
    },
    {
     "name": "stdout",
     "output_type": "stream",
     "text": [
      "Cannot Summarize\n",
      "The readme is summarized for  data\\repos\\simulation\\FlockingSimulation\n",
      "The readme is summarized for  data\\repos\\simulation\\gama\n"
     ]
    },
    {
     "name": "stderr",
     "output_type": "stream",
     "text": [
      "Token indices sequence length is longer than the specified maximum sequence length for this model (1223 > 1024). Running this sequence through the model will result in indexing errors\n"
     ]
    },
    {
     "name": "stdout",
     "output_type": "stream",
     "text": [
      "Cannot Summarize\n",
      "The readme is summarized for  data\\repos\\simulation\\gips\n"
     ]
    },
    {
     "name": "stderr",
     "output_type": "stream",
     "text": [
      "Token indices sequence length is longer than the specified maximum sequence length for this model (1850 > 1024). Running this sequence through the model will result in indexing errors\n"
     ]
    },
    {
     "name": "stdout",
     "output_type": "stream",
     "text": [
      "Cannot Summarize\n",
      "The readme is summarized for  data\\repos\\simulation\\iflye\n",
      "The readme is summarized for  data\\repos\\simulation\\imp_city\n",
      "The readme is summarized for  data\\repos\\simulation\\JSimpleSim\n",
      "The readme is summarized for  data\\repos\\simulation\\Logisim\n"
     ]
    },
    {
     "name": "stderr",
     "output_type": "stream",
     "text": [
      "Token indices sequence length is longer than the specified maximum sequence length for this model (5217 > 1024). Running this sequence through the model will result in indexing errors\n"
     ]
    },
    {
     "name": "stdout",
     "output_type": "stream",
     "text": [
      "Cannot Summarize\n",
      "The readme is summarized for  data\\repos\\simulation\\mars-sim\n"
     ]
    },
    {
     "name": "stderr",
     "output_type": "stream",
     "text": [
      "Token indices sequence length is longer than the specified maximum sequence length for this model (2392 > 1024). Running this sequence through the model will result in indexing errors\n"
     ]
    },
    {
     "name": "stdout",
     "output_type": "stream",
     "text": [
      "Cannot Summarize\n",
      "The readme is summarized for  data\\repos\\simulation\\MATSim-UAM\n",
      "The readme is summarized for  data\\repos\\simulation\\microtrafficsim\n"
     ]
    },
    {
     "name": "stderr",
     "output_type": "stream",
     "text": [
      "Token indices sequence length is longer than the specified maximum sequence length for this model (4869 > 1024). Running this sequence through the model will result in indexing errors\n"
     ]
    },
    {
     "name": "stdout",
     "output_type": "stream",
     "text": [
      "Cannot Summarize\n",
      "The readme is summarized for  data\\repos\\simulation\\Mirage\n",
      "The readme is summarized for  data\\repos\\simulation\\MiSim\n"
     ]
    },
    {
     "name": "stderr",
     "output_type": "stream",
     "text": [
      "Token indices sequence length is longer than the specified maximum sequence length for this model (1221 > 1024). Running this sequence through the model will result in indexing errors\n"
     ]
    },
    {
     "name": "stdout",
     "output_type": "stream",
     "text": [
      "Cannot Summarize\n",
      "The readme is summarized for  data\\repos\\simulation\\mosaic\n"
     ]
    },
    {
     "name": "stderr",
     "output_type": "stream",
     "text": [
      "Token indices sequence length is longer than the specified maximum sequence length for this model (6068 > 1024). Running this sequence through the model will result in indexing errors\n"
     ]
    },
    {
     "name": "stdout",
     "output_type": "stream",
     "text": [
      "Cannot Summarize\n",
      "The readme is summarized for  data\\repos\\simulation\\multiphysics\n",
      "The readme is summarized for  data\\repos\\simulation\\NeuGen\n"
     ]
    },
    {
     "name": "stderr",
     "output_type": "stream",
     "text": [
      "Token indices sequence length is longer than the specified maximum sequence length for this model (1256 > 1024). Running this sequence through the model will result in indexing errors\n"
     ]
    },
    {
     "name": "stdout",
     "output_type": "stream",
     "text": [
      "Cannot Summarize\n",
      "The readme is summarized for  data\\repos\\simulation\\ORBrake\n",
      "The readme is summarized for  data\\repos\\simulation\\PAA-SimTool\n"
     ]
    },
    {
     "name": "stderr",
     "output_type": "stream",
     "text": [
      "Token indices sequence length is longer than the specified maximum sequence length for this model (2273 > 1024). Running this sequence through the model will result in indexing errors\n"
     ]
    },
    {
     "name": "stdout",
     "output_type": "stream",
     "text": [
      "Cannot Summarize\n",
      "The readme is summarized for  data\\repos\\simulation\\Pandemic-Simulator\n",
      "The readme is summarized for  data\\repos\\simulation\\pedroEngine\n",
      "The readme is summarized for  data\\repos\\simulation\\plg\n",
      "The readme is summarized for  data\\repos\\simulation\\PowerSystemDataModel\n"
     ]
    },
    {
     "name": "stderr",
     "output_type": "stream",
     "text": [
      "Token indices sequence length is longer than the specified maximum sequence length for this model (6016 > 1024). Running this sequence through the model will result in indexing errors\n"
     ]
    },
    {
     "name": "stdout",
     "output_type": "stream",
     "text": [
      "Cannot Summarize\n",
      "The readme is summarized for  data\\repos\\simulation\\PureEdgeSim\n"
     ]
    },
    {
     "name": "stderr",
     "output_type": "stream",
     "text": [
      "Token indices sequence length is longer than the specified maximum sequence length for this model (12878 > 1024). Running this sequence through the model will result in indexing errors\n"
     ]
    },
    {
     "name": "stdout",
     "output_type": "stream",
     "text": [
      "Cannot Summarize\n",
      "The readme is summarized for  data\\repos\\simulation\\QSPcc\n"
     ]
    },
    {
     "name": "stderr",
     "output_type": "stream",
     "text": [
      "Token indices sequence length is longer than the specified maximum sequence length for this model (1341 > 1024). Running this sequence through the model will result in indexing errors\n"
     ]
    },
    {
     "name": "stdout",
     "output_type": "stream",
     "text": [
      "Cannot Summarize\n",
      "The readme is summarized for  data\\repos\\simulation\\react-native-ble-peripheral\n"
     ]
    },
    {
     "name": "stderr",
     "output_type": "stream",
     "text": [
      "Token indices sequence length is longer than the specified maximum sequence length for this model (6116 > 1024). Running this sequence through the model will result in indexing errors\n"
     ]
    },
    {
     "name": "stdout",
     "output_type": "stream",
     "text": [
      "Cannot Summarize\n",
      "The readme is summarized for  data\\repos\\simulation\\riscj-computer-mod\n",
      "The readme is summarized for  data\\repos\\simulation\\Robot-Overlord-App\n",
      "The readme is summarized for  data\\repos\\simulation\\SASS\n",
      "The readme is summarized for  data\\repos\\simulation\\ShapeOfThingsThatWere\n",
      "The readme is summarized for  data\\repos\\simulation\\simulated-evolution\n"
     ]
    },
    {
     "name": "stderr",
     "output_type": "stream",
     "text": [
      "Token indices sequence length is longer than the specified maximum sequence length for this model (2965 > 1024). Running this sequence through the model will result in indexing errors\n"
     ]
    },
    {
     "name": "stdout",
     "output_type": "stream",
     "text": [
      "Cannot Summarize\n",
      "The readme is summarized for  data\\repos\\simulation\\simulation-construction-set-2\n"
     ]
    },
    {
     "name": "stderr",
     "output_type": "stream",
     "text": [
      "Token indices sequence length is longer than the specified maximum sequence length for this model (1092 > 1024). Running this sequence through the model will result in indexing errors\n"
     ]
    },
    {
     "name": "stdout",
     "output_type": "stream",
     "text": [
      "Cannot Summarize\n",
      "The readme is summarized for  data\\repos\\simulation\\sinalgo\n",
      "The readme is summarized for  data\\repos\\simulation\\singa\n",
      "The readme is summarized for  data\\repos\\simulation\\skiverse\n"
     ]
    },
    {
     "name": "stderr",
     "output_type": "stream",
     "text": [
      "Token indices sequence length is longer than the specified maximum sequence length for this model (2943 > 1024). Running this sequence through the model will result in indexing errors\n"
     ]
    },
    {
     "name": "stdout",
     "output_type": "stream",
     "text": [
      "Cannot Summarize\n",
      "The readme is summarized for  data\\repos\\simulation\\smockin\n"
     ]
    },
    {
     "name": "stderr",
     "output_type": "stream",
     "text": [
      "Your max_length is set to 130, but your input_length is only 18. Since this is a summarization task, where outputs shorter than the input are typically wanted, you might consider decreasing max_length manually, e.g. summarizer('...', max_length=9)\n"
     ]
    },
    {
     "name": "stdout",
     "output_type": "stream",
     "text": [
      "The readme is summarized for  data\\repos\\simulation\\supermarket-simulator\n"
     ]
    },
    {
     "name": "stderr",
     "output_type": "stream",
     "text": [
      "Token indices sequence length is longer than the specified maximum sequence length for this model (1292 > 1024). Running this sequence through the model will result in indexing errors\n"
     ]
    },
    {
     "name": "stdout",
     "output_type": "stream",
     "text": [
      "Cannot Summarize\n",
      "The readme is summarized for  data\\repos\\simulation\\synthea\n",
      "The readme is summarized for  data\\repos\\simulation\\tko-electronics-sim\n",
      "The readme is summarized for  data\\repos\\simulation\\TraficCERN\n"
     ]
    },
    {
     "name": "stderr",
     "output_type": "stream",
     "text": [
      "Token indices sequence length is longer than the specified maximum sequence length for this model (1169 > 1024). Running this sequence through the model will result in indexing errors\n"
     ]
    },
    {
     "name": "stdout",
     "output_type": "stream",
     "text": [
      "Cannot Summarize\n",
      "The readme is summarized for  data\\repos\\simulation\\TraJ\n",
      "The readme is summarized for  data\\repos\\simulation\\tumor-growth-simulation\n",
      "The readme is summarized for  data\\repos\\simulation\\universe-maker-app\n"
     ]
    },
    {
     "name": "stderr",
     "output_type": "stream",
     "text": [
      "Your max_length is set to 130, but your input_length is only 49. Since this is a summarization task, where outputs shorter than the input are typically wanted, you might consider decreasing max_length manually, e.g. summarizer('...', max_length=24)\n"
     ]
    },
    {
     "name": "stdout",
     "output_type": "stream",
     "text": [
      "The readme is summarized for  data\\repos\\simulation\\varsim\n",
      "The readme is summarized for  data\\repos\\simulation\\workcraft\n",
      "Total folders deleted 0\n"
     ]
    },
    {
     "data": {
      "text/html": [
       "<div>\n",
       "<style scoped>\n",
       "    .dataframe tbody tr th:only-of-type {\n",
       "        vertical-align: middle;\n",
       "    }\n",
       "\n",
       "    .dataframe tbody tr th {\n",
       "        vertical-align: top;\n",
       "    }\n",
       "\n",
       "    .dataframe thead th {\n",
       "        text-align: right;\n",
       "    }\n",
       "</style>\n",
       "<table border=\"1\" class=\"dataframe\">\n",
       "  <thead>\n",
       "    <tr style=\"text-align: right;\">\n",
       "      <th></th>\n",
       "      <th>original_text</th>\n",
       "      <th>summary</th>\n",
       "    </tr>\n",
       "  </thead>\n",
       "  <tbody>\n",
       "    <tr>\n",
       "      <th>0</th>\n",
       "      <td>adf-sample-agent-java Agent Development Framew...</td>\n",
       "      <td>The adf-sample-agent-java is a sample team imp...</td>\n",
       "    </tr>\n",
       "    <tr>\n",
       "      <th>1</th>\n",
       "      <td>\\n\\n\\n\\n\\n\\nAerie is a software framework for ...</td>\n",
       "      <td>Aerie is a software framework for modeling spa...</td>\n",
       "    </tr>\n",
       "    <tr>\n",
       "      <th>2</th>\n",
       "      <td>Agent.Workbench\\nThe documentaton is also avai...</td>\n",
       "      <td>Agent.Workbench is an Eclipse / OSGI based app...</td>\n",
       "    </tr>\n",
       "    <tr>\n",
       "      <th>3</th>\n",
       "      <td>amodeus.amod \\nThis repository allows to run a...</td>\n",
       "      <td>No summary</td>\n",
       "    </tr>\n",
       "    <tr>\n",
       "      <th>4</th>\n",
       "      <td>amodeus.amodeus \\nAutonomous mobility-on-deman...</td>\n",
       "      <td>No summary</td>\n",
       "    </tr>\n",
       "    <tr>\n",
       "      <th>...</th>\n",
       "      <td>...</td>\n",
       "      <td>...</td>\n",
       "    </tr>\n",
       "    <tr>\n",
       "      <th>60</th>\n",
       "      <td>\\n\\n\\n\\nTraJ\\nJava library for diffusion traj...</td>\n",
       "      <td>No summary</td>\n",
       "    </tr>\n",
       "    <tr>\n",
       "      <th>61</th>\n",
       "      <td>Tumor growth simulation\\nTumor growth simulati...</td>\n",
       "      <td>Tumor growth simulation using 2D cellular auto...</td>\n",
       "    </tr>\n",
       "    <tr>\n",
       "      <th>62</th>\n",
       "      <td>Universe Maker | Planetary simulation game\\n\\n...</td>\n",
       "      <td>Universe Maker is an n-body simulation of a pl...</td>\n",
       "    </tr>\n",
       "    <tr>\n",
       "      <th>63</th>\n",
       "      <td>VarSim: A high-fidelity simulation validation ...</td>\n",
       "      <td>Varsim is a high-fidelity simulation validatio...</td>\n",
       "    </tr>\n",
       "    <tr>\n",
       "      <th>64</th>\n",
       "      <td>\\n\\n\\n\\n\\n\\n\\nWorkcraft is a cross-platform to...</td>\n",
       "      <td>Workcraft is a cross-platform toolset to captu...</td>\n",
       "    </tr>\n",
       "  </tbody>\n",
       "</table>\n",
       "<p>65 rows × 2 columns</p>\n",
       "</div>"
      ],
      "text/plain": [
       "                                        original_text  \\\n",
       "0   adf-sample-agent-java Agent Development Framew...   \n",
       "1   \\n\\n\\n\\n\\n\\nAerie is a software framework for ...   \n",
       "2   Agent.Workbench\\nThe documentaton is also avai...   \n",
       "3   amodeus.amod \\nThis repository allows to run a...   \n",
       "4   amodeus.amodeus \\nAutonomous mobility-on-deman...   \n",
       "..                                                ...   \n",
       "60   \\n\\n\\n\\nTraJ\\nJava library for diffusion traj...   \n",
       "61  Tumor growth simulation\\nTumor growth simulati...   \n",
       "62  Universe Maker | Planetary simulation game\\n\\n...   \n",
       "63  VarSim: A high-fidelity simulation validation ...   \n",
       "64  \\n\\n\\n\\n\\n\\n\\nWorkcraft is a cross-platform to...   \n",
       "\n",
       "                                              summary  \n",
       "0   The adf-sample-agent-java is a sample team imp...  \n",
       "1   Aerie is a software framework for modeling spa...  \n",
       "2   Agent.Workbench is an Eclipse / OSGI based app...  \n",
       "3                                          No summary  \n",
       "4                                          No summary  \n",
       "..                                                ...  \n",
       "60                                         No summary  \n",
       "61  Tumor growth simulation using 2D cellular auto...  \n",
       "62  Universe Maker is an n-body simulation of a pl...  \n",
       "63  Varsim is a high-fidelity simulation validatio...  \n",
       "64  Workcraft is a cross-platform toolset to captu...  \n",
       "\n",
       "[65 rows x 2 columns]"
      ]
     },
     "execution_count": 18,
     "metadata": {},
     "output_type": "execute_result"
    }
   ],
   "source": [
    "import os\n",
    "import shutil \n",
    "\n",
    "repos_path = os.path.join('data', 'repos', 'simulation')\n",
    "\n",
    "summaries = []\n",
    "for folder in os.listdir(repos_path):\n",
    "    folder_path = os.path.join(repos_path, folder)\n",
    "    readme_file = os.path.join(folder_path, 'README.md')\n",
    "    \n",
    "    if os.path.exists(readme_file):\n",
    "        summary = summarize_helper(readme_file)\n",
    "        summaries.append(summary)\n",
    "        print(\"The readme is summarized for \", folder_path)\n",
    "    else:\n",
    "        try:\n",
    "            shutil.rmtree(folder_path)\n",
    "            count +=1\n",
    "            print(f\"Folder '{folder_path}' has been deleted\")\n",
    "        except OSError as e:\n",
    "            print(f\"Error: {e}. Folder '{folder_path}' is not empty or cannot be deleted\")\n",
    "    \n",
    "\n",
    "print(\"Total folders deleted\", count)\n",
    "df = pd.df = pd.DataFrame(summaries)\n",
    "df.to_csv('summaries_sim.csv')\n",
    "df"
   ]
  },
  {
   "cell_type": "code",
   "execution_count": 19,
   "id": "f0c77724",
   "metadata": {},
   "outputs": [
    {
     "name": "stdout",
     "output_type": "stream",
     "text": [
      "The readme is summarized for  data\\repos\\traditional\\alchemy\n"
     ]
    },
    {
     "name": "stderr",
     "output_type": "stream",
     "text": [
      "Token indices sequence length is longer than the specified maximum sequence length for this model (3359 > 1024). Running this sequence through the model will result in indexing errors\n"
     ]
    },
    {
     "name": "stdout",
     "output_type": "stream",
     "text": [
      "Cannot Summarize\n",
      "The readme is summarized for  data\\repos\\traditional\\android-http-server\n",
      "The readme is summarized for  data\\repos\\traditional\\Android-Web-Server\n"
     ]
    },
    {
     "name": "stderr",
     "output_type": "stream",
     "text": [
      "Your max_length is set to 130, but your input_length is only 79. Since this is a summarization task, where outputs shorter than the input are typically wanted, you might consider decreasing max_length manually, e.g. summarizer('...', max_length=39)\n"
     ]
    },
    {
     "name": "stdout",
     "output_type": "stream",
     "text": [
      "The readme is summarized for  data\\repos\\traditional\\AndroidWebAutoLaunch\n",
      "The readme is summarized for  data\\repos\\traditional\\AnywhereAlertConfirm\n",
      "The readme is summarized for  data\\repos\\traditional\\APKMirror\n"
     ]
    },
    {
     "name": "stderr",
     "output_type": "stream",
     "text": [
      "Token indices sequence length is longer than the specified maximum sequence length for this model (1149 > 1024). Running this sequence through the model will result in indexing errors\n"
     ]
    },
    {
     "name": "stdout",
     "output_type": "stream",
     "text": [
      "Cannot Summarize\n",
      "The readme is summarized for  data\\repos\\traditional\\app\n"
     ]
    },
    {
     "name": "stderr",
     "output_type": "stream",
     "text": [
      "Token indices sequence length is longer than the specified maximum sequence length for this model (1134 > 1024). Running this sequence through the model will result in indexing errors\n"
     ]
    },
    {
     "name": "stdout",
     "output_type": "stream",
     "text": [
      "Cannot Summarize\n",
      "The readme is summarized for  data\\repos\\traditional\\Arkhota\n"
     ]
    },
    {
     "name": "stderr",
     "output_type": "stream",
     "text": [
      "Token indices sequence length is longer than the specified maximum sequence length for this model (4193 > 1024). Running this sequence through the model will result in indexing errors\n"
     ]
    },
    {
     "name": "stdout",
     "output_type": "stream",
     "text": [
      "Cannot Summarize\n",
      "The readme is summarized for  data\\repos\\traditional\\automotion-java\n",
      "The readme is summarized for  data\\repos\\traditional\\avaje-jex\n",
      "The readme is summarized for  data\\repos\\traditional\\botwall4j\n"
     ]
    },
    {
     "name": "stderr",
     "output_type": "stream",
     "text": [
      "Token indices sequence length is longer than the specified maximum sequence length for this model (7871 > 1024). Running this sequence through the model will result in indexing errors\n"
     ]
    },
    {
     "name": "stdout",
     "output_type": "stream",
     "text": [
      "Cannot Summarize\n",
      "The readme is summarized for  data\\repos\\traditional\\boyka-framework\n",
      "The readme is summarized for  data\\repos\\traditional\\bring\n"
     ]
    },
    {
     "name": "stderr",
     "output_type": "stream",
     "text": [
      "Your max_length is set to 130, but your input_length is only 57. Since this is a summarization task, where outputs shorter than the input are typically wanted, you might consider decreasing max_length manually, e.g. summarizer('...', max_length=28)\n"
     ]
    },
    {
     "name": "stdout",
     "output_type": "stream",
     "text": [
      "The readme is summarized for  data\\repos\\traditional\\BUbiNG\n",
      "The readme is summarized for  data\\repos\\traditional\\buildvu-microservice-example\n"
     ]
    },
    {
     "name": "stderr",
     "output_type": "stream",
     "text": [
      "Token indices sequence length is longer than the specified maximum sequence length for this model (1415 > 1024). Running this sequence through the model will result in indexing errors\n"
     ]
    },
    {
     "name": "stdout",
     "output_type": "stream",
     "text": [
      "Cannot Summarize\n",
      "The readme is summarized for  data\\repos\\traditional\\capacitor-firebase\n",
      "The readme is summarized for  data\\repos\\traditional\\CatLogging\n"
     ]
    },
    {
     "name": "stderr",
     "output_type": "stream",
     "text": [
      "Token indices sequence length is longer than the specified maximum sequence length for this model (2509 > 1024). Running this sequence through the model will result in indexing errors\n"
     ]
    },
    {
     "name": "stdout",
     "output_type": "stream",
     "text": [
      "Cannot Summarize\n",
      "The readme is summarized for  data\\repos\\traditional\\chaos-server\n"
     ]
    },
    {
     "name": "stderr",
     "output_type": "stream",
     "text": [
      "Token indices sequence length is longer than the specified maximum sequence length for this model (3922 > 1024). Running this sequence through the model will result in indexing errors\n"
     ]
    },
    {
     "name": "stdout",
     "output_type": "stream",
     "text": [
      "Cannot Summarize\n",
      "The readme is summarized for  data\\repos\\traditional\\dataviewer\n",
      "The readme is summarized for  data\\repos\\traditional\\dicom-web-pacs\n"
     ]
    },
    {
     "name": "stderr",
     "output_type": "stream",
     "text": [
      "Token indices sequence length is longer than the specified maximum sequence length for this model (2062 > 1024). Running this sequence through the model will result in indexing errors\n"
     ]
    },
    {
     "name": "stdout",
     "output_type": "stream",
     "text": [
      "Cannot Summarize\n",
      "The readme is summarized for  data\\repos\\traditional\\DiscoveryDesktop\n"
     ]
    },
    {
     "name": "stderr",
     "output_type": "stream",
     "text": [
      "Token indices sequence length is longer than the specified maximum sequence length for this model (47553 > 1024). Running this sequence through the model will result in indexing errors\n"
     ]
    },
    {
     "name": "stdout",
     "output_type": "stream",
     "text": [
      "Cannot Summarize\n",
      "The readme is summarized for  data\\repos\\traditional\\DiskMirror\n",
      "The readme is summarized for  data\\repos\\traditional\\dotenv\n"
     ]
    },
    {
     "name": "stderr",
     "output_type": "stream",
     "text": [
      "Token indices sequence length is longer than the specified maximum sequence length for this model (3337 > 1024). Running this sequence through the model will result in indexing errors\n"
     ]
    },
    {
     "name": "stdout",
     "output_type": "stream",
     "text": [
      "Cannot Summarize\n",
      "The readme is summarized for  data\\repos\\traditional\\e-commerce\n",
      "The readme is summarized for  data\\repos\\traditional\\espresso\n"
     ]
    },
    {
     "name": "stderr",
     "output_type": "stream",
     "text": [
      "Token indices sequence length is longer than the specified maximum sequence length for this model (1715 > 1024). Running this sequence through the model will result in indexing errors\n"
     ]
    },
    {
     "name": "stdout",
     "output_type": "stream",
     "text": [
      "Cannot Summarize\n",
      "The readme is summarized for  data\\repos\\traditional\\fili\n"
     ]
    },
    {
     "name": "stderr",
     "output_type": "stream",
     "text": [
      "Token indices sequence length is longer than the specified maximum sequence length for this model (1394 > 1024). Running this sequence through the model will result in indexing errors\n"
     ]
    },
    {
     "name": "stdout",
     "output_type": "stream",
     "text": [
      "Cannot Summarize\n",
      "The readme is summarized for  data\\repos\\traditional\\firefly\n"
     ]
    },
    {
     "name": "stderr",
     "output_type": "stream",
     "text": [
      "Token indices sequence length is longer than the specified maximum sequence length for this model (1136 > 1024). Running this sequence through the model will result in indexing errors\n"
     ]
    },
    {
     "name": "stdout",
     "output_type": "stream",
     "text": [
      "Cannot Summarize\n",
      "The readme is summarized for  data\\repos\\traditional\\Gamp-Forest-site\n",
      "The readme is summarized for  data\\repos\\traditional\\gcn-intellij-tooling\n",
      "The readme is summarized for  data\\repos\\traditional\\gwt-ol\n",
      "The readme is summarized for  data\\repos\\traditional\\Hacktoberfest-2022\n"
     ]
    },
    {
     "name": "stderr",
     "output_type": "stream",
     "text": [
      "Token indices sequence length is longer than the specified maximum sequence length for this model (1082 > 1024). Running this sequence through the model will result in indexing errors\n"
     ]
    },
    {
     "name": "stdout",
     "output_type": "stream",
     "text": [
      "Cannot Summarize\n",
      "The readme is summarized for  data\\repos\\traditional\\HtmlNative\n"
     ]
    },
    {
     "name": "stderr",
     "output_type": "stream",
     "text": [
      "Token indices sequence length is longer than the specified maximum sequence length for this model (1582 > 1024). Running this sequence through the model will result in indexing errors\n"
     ]
    },
    {
     "name": "stdout",
     "output_type": "stream",
     "text": [
      "Cannot Summarize\n",
      "The readme is summarized for  data\\repos\\traditional\\java-reverse-tcp\n",
      "The readme is summarized for  data\\repos\\traditional\\java-web-exercises\n"
     ]
    },
    {
     "name": "stderr",
     "output_type": "stream",
     "text": [
      "Token indices sequence length is longer than the specified maximum sequence length for this model (4165 > 1024). Running this sequence through the model will result in indexing errors\n"
     ]
    },
    {
     "name": "stdout",
     "output_type": "stream",
     "text": [
      "Cannot Summarize\n",
      "The readme is summarized for  data\\repos\\traditional\\javafx-dataviewer-wrapper\n",
      "The readme is summarized for  data\\repos\\traditional\\JCrawl\n"
     ]
    },
    {
     "name": "stderr",
     "output_type": "stream",
     "text": [
      "Token indices sequence length is longer than the specified maximum sequence length for this model (1412 > 1024). Running this sequence through the model will result in indexing errors\n"
     ]
    },
    {
     "name": "stdout",
     "output_type": "stream",
     "text": [
      "Cannot Summarize\n",
      "The readme is summarized for  data\\repos\\traditional\\Jerrydog\n"
     ]
    },
    {
     "name": "stderr",
     "output_type": "stream",
     "text": [
      "Token indices sequence length is longer than the specified maximum sequence length for this model (1566 > 1024). Running this sequence through the model will result in indexing errors\n"
     ]
    },
    {
     "name": "stdout",
     "output_type": "stream",
     "text": [
      "Cannot Summarize\n",
      "The readme is summarized for  data\\repos\\traditional\\JumpGo-for-Android\n",
      "The readme is summarized for  data\\repos\\traditional\\Learning_platform\n"
     ]
    },
    {
     "name": "stderr",
     "output_type": "stream",
     "text": [
      "Token indices sequence length is longer than the specified maximum sequence length for this model (9456 > 1024). Running this sequence through the model will result in indexing errors\n"
     ]
    },
    {
     "name": "stdout",
     "output_type": "stream",
     "text": [
      "Cannot Summarize\n",
      "The readme is summarized for  data\\repos\\traditional\\Liberg\n"
     ]
    },
    {
     "name": "stderr",
     "output_type": "stream",
     "text": [
      "Token indices sequence length is longer than the specified maximum sequence length for this model (2638 > 1024). Running this sequence through the model will result in indexing errors\n"
     ]
    },
    {
     "name": "stdout",
     "output_type": "stream",
     "text": [
      "Cannot Summarize\n",
      "The readme is summarized for  data\\repos\\traditional\\linwin-sploit\n"
     ]
    },
    {
     "name": "stderr",
     "output_type": "stream",
     "text": [
      "Token indices sequence length is longer than the specified maximum sequence length for this model (1487 > 1024). Running this sequence through the model will result in indexing errors\n"
     ]
    },
    {
     "name": "stdout",
     "output_type": "stream",
     "text": [
      "Cannot Summarize\n",
      "The readme is summarized for  data\\repos\\traditional\\log-requests-to-sqlite\n"
     ]
    },
    {
     "name": "stderr",
     "output_type": "stream",
     "text": [
      "Your max_length is set to 130, but your input_length is only 11. Since this is a summarization task, where outputs shorter than the input are typically wanted, you might consider decreasing max_length manually, e.g. summarizer('...', max_length=5)\n"
     ]
    },
    {
     "name": "stdout",
     "output_type": "stream",
     "text": [
      "The readme is summarized for  data\\repos\\traditional\\log_generator\n"
     ]
    },
    {
     "name": "stderr",
     "output_type": "stream",
     "text": [
      "Token indices sequence length is longer than the specified maximum sequence length for this model (6984 > 1024). Running this sequence through the model will result in indexing errors\n"
     ]
    },
    {
     "name": "stdout",
     "output_type": "stream",
     "text": [
      "Cannot Summarize\n",
      "The readme is summarized for  data\\repos\\traditional\\LoopAuth\n"
     ]
    },
    {
     "name": "stderr",
     "output_type": "stream",
     "text": [
      "Your max_length is set to 130, but your input_length is only 112. Since this is a summarization task, where outputs shorter than the input are typically wanted, you might consider decreasing max_length manually, e.g. summarizer('...', max_length=56)\n"
     ]
    },
    {
     "name": "stdout",
     "output_type": "stream",
     "text": [
      "The readme is summarized for  data\\repos\\traditional\\Lucid-Browser\n",
      "The readme is summarized for  data\\repos\\traditional\\magic-starter\n",
      "The readme is summarized for  data\\repos\\traditional\\mailspider\n",
      "The readme is summarized for  data\\repos\\traditional\\metl\n",
      "The readme is summarized for  data\\repos\\traditional\\modern-app-dev\n"
     ]
    },
    {
     "name": "stderr",
     "output_type": "stream",
     "text": [
      "Token indices sequence length is longer than the specified maximum sequence length for this model (8427 > 1024). Running this sequence through the model will result in indexing errors\n"
     ]
    },
    {
     "name": "stdout",
     "output_type": "stream",
     "text": [
      "Cannot Summarize\n",
      "The readme is summarized for  data\\repos\\traditional\\molecule\n"
     ]
    },
    {
     "name": "stderr",
     "output_type": "stream",
     "text": [
      "Token indices sequence length is longer than the specified maximum sequence length for this model (1139 > 1024). Running this sequence through the model will result in indexing errors\n"
     ]
    },
    {
     "name": "stdout",
     "output_type": "stream",
     "text": [
      "Cannot Summarize\n",
      "The readme is summarized for  data\\repos\\traditional\\MotoGP-API\n",
      "The readme is summarized for  data\\repos\\traditional\\ng-objects\n"
     ]
    },
    {
     "name": "stderr",
     "output_type": "stream",
     "text": [
      "Your max_length is set to 130, but your input_length is only 15. Since this is a summarization task, where outputs shorter than the input are typically wanted, you might consider decreasing max_length manually, e.g. summarizer('...', max_length=7)\n"
     ]
    },
    {
     "name": "stdout",
     "output_type": "stream",
     "text": [
      "The readme is summarized for  data\\repos\\traditional\\OpenChess\n",
      "The readme is summarized for  data\\repos\\traditional\\OpenKettleWebUI\n",
      "The readme is summarized for  data\\repos\\traditional\\openlibs.easywebframework\n"
     ]
    },
    {
     "name": "stderr",
     "output_type": "stream",
     "text": [
      "Token indices sequence length is longer than the specified maximum sequence length for this model (4308 > 1024). Running this sequence through the model will result in indexing errors\n"
     ]
    },
    {
     "name": "stdout",
     "output_type": "stream",
     "text": [
      "Cannot Summarize\n",
      "The readme is summarized for  data\\repos\\traditional\\openLinwin\n"
     ]
    },
    {
     "name": "stderr",
     "output_type": "stream",
     "text": [
      "Token indices sequence length is longer than the specified maximum sequence length for this model (2524 > 1024). Running this sequence through the model will result in indexing errors\n"
     ]
    },
    {
     "name": "stdout",
     "output_type": "stream",
     "text": [
      "Cannot Summarize\n",
      "The readme is summarized for  data\\repos\\traditional\\parsec\n",
      "The readme is summarized for  data\\repos\\traditional\\parsec-libraries\n"
     ]
    },
    {
     "name": "stderr",
     "output_type": "stream",
     "text": [
      "Token indices sequence length is longer than the specified maximum sequence length for this model (5831 > 1024). Running this sequence through the model will result in indexing errors\n"
     ]
    },
    {
     "name": "stdout",
     "output_type": "stream",
     "text": [
      "Cannot Summarize\n",
      "The readme is summarized for  data\\repos\\traditional\\ph-oton\n"
     ]
    },
    {
     "name": "stderr",
     "output_type": "stream",
     "text": [
      "Token indices sequence length is longer than the specified maximum sequence length for this model (1146 > 1024). Running this sequence through the model will result in indexing errors\n"
     ]
    },
    {
     "name": "stdout",
     "output_type": "stream",
     "text": [
      "Cannot Summarize\n",
      "The readme is summarized for  data\\repos\\traditional\\qaf\n",
      "The readme is summarized for  data\\repos\\traditional\\quarkus-primefaces\n",
      "The readme is summarized for  data\\repos\\traditional\\quarkus-quinoa\n",
      "The readme is summarized for  data\\repos\\traditional\\quarkus-web-bundler\n",
      "The readme is summarized for  data\\repos\\traditional\\react-native-social-fab\n"
     ]
    },
    {
     "name": "stderr",
     "output_type": "stream",
     "text": [
      "Token indices sequence length is longer than the specified maximum sequence length for this model (3556 > 1024). Running this sequence through the model will result in indexing errors\n"
     ]
    },
    {
     "name": "stdout",
     "output_type": "stream",
     "text": [
      "Cannot Summarize\n",
      "The readme is summarized for  data\\repos\\traditional\\redant\n"
     ]
    },
    {
     "name": "stderr",
     "output_type": "stream",
     "text": [
      "Token indices sequence length is longer than the specified maximum sequence length for this model (1307 > 1024). Running this sequence through the model will result in indexing errors\n"
     ]
    },
    {
     "name": "stdout",
     "output_type": "stream",
     "text": [
      "Cannot Summarize\n",
      "The readme is summarized for  data\\repos\\traditional\\reqn\n",
      "The readme is summarized for  data\\repos\\traditional\\retail-banking\n"
     ]
    },
    {
     "name": "stderr",
     "output_type": "stream",
     "text": [
      "Token indices sequence length is longer than the specified maximum sequence length for this model (2329 > 1024). Running this sequence through the model will result in indexing errors\n"
     ]
    },
    {
     "name": "stdout",
     "output_type": "stream",
     "text": [
      "Cannot Summarize\n",
      "The readme is summarized for  data\\repos\\traditional\\rife2\n"
     ]
    },
    {
     "name": "stderr",
     "output_type": "stream",
     "text": [
      "Token indices sequence length is longer than the specified maximum sequence length for this model (3614 > 1024). Running this sequence through the model will result in indexing errors\n"
     ]
    },
    {
     "name": "stdout",
     "output_type": "stream",
     "text": [
      "Cannot Summarize\n",
      "The readme is summarized for  data\\repos\\traditional\\riptide\n",
      "The readme is summarized for  data\\repos\\traditional\\RiseLoader\n",
      "The readme is summarized for  data\\repos\\traditional\\routekit\n",
      "The readme is summarized for  data\\repos\\traditional\\rtsp-websocket-server\n"
     ]
    },
    {
     "name": "stderr",
     "output_type": "stream",
     "text": [
      "Your max_length is set to 130, but your input_length is only 64. Since this is a summarization task, where outputs shorter than the input are typically wanted, you might consider decreasing max_length manually, e.g. summarizer('...', max_length=32)\n"
     ]
    },
    {
     "name": "stdout",
     "output_type": "stream",
     "text": [
      "The readme is summarized for  data\\repos\\traditional\\seed\n"
     ]
    },
    {
     "name": "stderr",
     "output_type": "stream",
     "text": [
      "Token indices sequence length is longer than the specified maximum sequence length for this model (1844 > 1024). Running this sequence through the model will result in indexing errors\n"
     ]
    },
    {
     "name": "stdout",
     "output_type": "stream",
     "text": [
      "Cannot Summarize\n",
      "The readme is summarized for  data\\repos\\traditional\\Setool-Main\n"
     ]
    },
    {
     "name": "stderr",
     "output_type": "stream",
     "text": [
      "Token indices sequence length is longer than the specified maximum sequence length for this model (1143 > 1024). Running this sequence through the model will result in indexing errors\n"
     ]
    },
    {
     "name": "stdout",
     "output_type": "stream",
     "text": [
      "Cannot Summarize\n",
      "The readme is summarized for  data\\repos\\traditional\\sfe4j\n"
     ]
    },
    {
     "name": "stderr",
     "output_type": "stream",
     "text": [
      "Token indices sequence length is longer than the specified maximum sequence length for this model (2126 > 1024). Running this sequence through the model will result in indexing errors\n"
     ]
    },
    {
     "name": "stdout",
     "output_type": "stream",
     "text": [
      "Cannot Summarize\n",
      "The readme is summarized for  data\\repos\\traditional\\shoulder-framework\n",
      "The readme is summarized for  data\\repos\\traditional\\simplejmx\n",
      "The readme is summarized for  data\\repos\\traditional\\skeleton-starter-flow\n",
      "The readme is summarized for  data\\repos\\traditional\\skeleton-starter-flow-spring\n"
     ]
    },
    {
     "name": "stderr",
     "output_type": "stream",
     "text": [
      "Token indices sequence length is longer than the specified maximum sequence length for this model (1594 > 1024). Running this sequence through the model will result in indexing errors\n"
     ]
    },
    {
     "name": "stdout",
     "output_type": "stream",
     "text": [
      "Cannot Summarize\n",
      "The readme is summarized for  data\\repos\\traditional\\SORMAS-Project\n"
     ]
    },
    {
     "name": "stderr",
     "output_type": "stream",
     "text": [
      "Token indices sequence length is longer than the specified maximum sequence length for this model (1442 > 1024). Running this sequence through the model will result in indexing errors\n"
     ]
    },
    {
     "name": "stdout",
     "output_type": "stream",
     "text": [
      "Cannot Summarize\n",
      "The readme is summarized for  data\\repos\\traditional\\spring-s3-properties-loader\n"
     ]
    },
    {
     "name": "stderr",
     "output_type": "stream",
     "text": [
      "Your max_length is set to 130, but your input_length is only 89. Since this is a summarization task, where outputs shorter than the input are typically wanted, you might consider decreasing max_length manually, e.g. summarizer('...', max_length=44)\n"
     ]
    },
    {
     "name": "stdout",
     "output_type": "stream",
     "text": [
      "The readme is summarized for  data\\repos\\traditional\\swim-java-bindings\n",
      "The readme is summarized for  data\\repos\\traditional\\teachingCodeRepo\n"
     ]
    },
    {
     "name": "stderr",
     "output_type": "stream",
     "text": [
      "Your max_length is set to 130, but your input_length is only 128. Since this is a summarization task, where outputs shorter than the input are typically wanted, you might consider decreasing max_length manually, e.g. summarizer('...', max_length=64)\n"
     ]
    },
    {
     "name": "stdout",
     "output_type": "stream",
     "text": [
      "The readme is summarized for  data\\repos\\traditional\\urlpattern\n",
      "The readme is summarized for  data\\repos\\traditional\\UserCenter\n",
      "The readme is summarized for  data\\repos\\traditional\\venom\n"
     ]
    },
    {
     "name": "stderr",
     "output_type": "stream",
     "text": [
      "Token indices sequence length is longer than the specified maximum sequence length for this model (7283 > 1024). Running this sequence through the model will result in indexing errors\n"
     ]
    },
    {
     "name": "stdout",
     "output_type": "stream",
     "text": [
      "Cannot Summarize\n",
      "The readme is summarized for  data\\repos\\traditional\\vertx-ddns\n"
     ]
    },
    {
     "name": "stderr",
     "output_type": "stream",
     "text": [
      "Token indices sequence length is longer than the specified maximum sequence length for this model (1089 > 1024). Running this sequence through the model will result in indexing errors\n"
     ]
    },
    {
     "name": "stdout",
     "output_type": "stream",
     "text": [
      "Cannot Summarize\n",
      "The readme is summarized for  data\\repos\\traditional\\vtm\n"
     ]
    },
    {
     "name": "stderr",
     "output_type": "stream",
     "text": [
      "Token indices sequence length is longer than the specified maximum sequence length for this model (2049 > 1024). Running this sequence through the model will result in indexing errors\n"
     ]
    },
    {
     "name": "stdout",
     "output_type": "stream",
     "text": [
      "Cannot Summarize\n",
      "The readme is summarized for  data\\repos\\traditional\\w2j-cli\n",
      "The readme is summarized for  data\\repos\\traditional\\web-budget\n"
     ]
    },
    {
     "name": "stderr",
     "output_type": "stream",
     "text": [
      "Token indices sequence length is longer than the specified maximum sequence length for this model (4032 > 1024). Running this sequence through the model will result in indexing errors\n"
     ]
    },
    {
     "name": "stdout",
     "output_type": "stream",
     "text": [
      "Cannot Summarize\n",
      "The readme is summarized for  data\\repos\\traditional\\Web-DICOM-Management\n"
     ]
    },
    {
     "name": "stderr",
     "output_type": "stream",
     "text": [
      "Token indices sequence length is longer than the specified maximum sequence length for this model (4304 > 1024). Running this sequence through the model will result in indexing errors\n"
     ]
    },
    {
     "name": "stdout",
     "output_type": "stream",
     "text": [
      "Cannot Summarize\n",
      "The readme is summarized for  data\\repos\\traditional\\WebAndAppUITesting\n",
      "The readme is summarized for  data\\repos\\traditional\\webby\n",
      "The readme is summarized for  data\\repos\\traditional\\webinloop\n",
      "The readme is summarized for  data\\repos\\traditional\\WeBlocker\n",
      "The readme is summarized for  data\\repos\\traditional\\webrest-starter\n"
     ]
    },
    {
     "name": "stderr",
     "output_type": "stream",
     "text": [
      "Token indices sequence length is longer than the specified maximum sequence length for this model (4493 > 1024). Running this sequence through the model will result in indexing errors\n"
     ]
    },
    {
     "name": "stdout",
     "output_type": "stream",
     "text": [
      "Cannot Summarize\n",
      "The readme is summarized for  data\\repos\\traditional\\WebSocketaaS\n"
     ]
    },
    {
     "name": "stderr",
     "output_type": "stream",
     "text": [
      "Token indices sequence length is longer than the specified maximum sequence length for this model (1062 > 1024). Running this sequence through the model will result in indexing errors\n"
     ]
    },
    {
     "name": "stdout",
     "output_type": "stream",
     "text": [
      "Cannot Summarize\n",
      "The readme is summarized for  data\\repos\\traditional\\wicket-iziToast\n",
      "The readme is summarized for  data\\repos\\traditional\\Wicket-tutorial-examples\n"
     ]
    },
    {
     "name": "stderr",
     "output_type": "stream",
     "text": [
      "Token indices sequence length is longer than the specified maximum sequence length for this model (3764 > 1024). Running this sequence through the model will result in indexing errors\n"
     ]
    },
    {
     "name": "stdout",
     "output_type": "stream",
     "text": [
      "Cannot Summarize\n",
      "The readme is summarized for  data\\repos\\traditional\\wrappedelements\n"
     ]
    },
    {
     "name": "stderr",
     "output_type": "stream",
     "text": [
      "Token indices sequence length is longer than the specified maximum sequence length for this model (3230 > 1024). Running this sequence through the model will result in indexing errors\n"
     ]
    },
    {
     "name": "stdout",
     "output_type": "stream",
     "text": [
      "Cannot Summarize\n",
      "The readme is summarized for  data\\repos\\traditional\\YangMVC\n",
      "Total folders deleted 0\n"
     ]
    },
    {
     "data": {
      "text/html": [
       "<div>\n",
       "<style scoped>\n",
       "    .dataframe tbody tr th:only-of-type {\n",
       "        vertical-align: middle;\n",
       "    }\n",
       "\n",
       "    .dataframe tbody tr th {\n",
       "        vertical-align: top;\n",
       "    }\n",
       "\n",
       "    .dataframe thead th {\n",
       "        text-align: right;\n",
       "    }\n",
       "</style>\n",
       "<table border=\"1\" class=\"dataframe\">\n",
       "  <thead>\n",
       "    <tr style=\"text-align: right;\">\n",
       "      <th></th>\n",
       "      <th>original_text</th>\n",
       "      <th>summary</th>\n",
       "    </tr>\n",
       "  </thead>\n",
       "  <tbody>\n",
       "    <tr>\n",
       "      <th>0</th>\n",
       "      <td>\\nAlchemy:\\n\\nalchemy是以Jhipster为脚手架开发的web系统，能够...</td>\n",
       "      <td>Alchemy is a web-based web app. It uses the Fl...</td>\n",
       "    </tr>\n",
       "    <tr>\n",
       "      <th>1</th>\n",
       "      <td>Android HTTP Server\\nSmall but powerful multit...</td>\n",
       "      <td>No summary</td>\n",
       "    </tr>\n",
       "    <tr>\n",
       "      <th>2</th>\n",
       "      <td>Android Web Server (FireFly)\\nSimple and Small...</td>\n",
       "      <td>Android Web Server (FireFly) is a TCP/IP Web S...</td>\n",
       "    </tr>\n",
       "    <tr>\n",
       "      <th>3</th>\n",
       "      <td>Auto Web Launcher\\nA simple App to launch webp...</td>\n",
       "      <td>A simple App to launch webpages at full screen...</td>\n",
       "    </tr>\n",
       "    <tr>\n",
       "      <th>4</th>\n",
       "      <td>React Native Anywhere Alert Confirm\\nOverview\\...</td>\n",
       "      <td>React Native Anywhere Alert Confirm provides a...</td>\n",
       "    </tr>\n",
       "    <tr>\n",
       "      <th>...</th>\n",
       "      <td>...</td>\n",
       "      <td>...</td>\n",
       "    </tr>\n",
       "    <tr>\n",
       "      <th>96</th>\n",
       "      <td>Introduction\\nThe project is the backend solut...</td>\n",
       "      <td>No summary</td>\n",
       "    </tr>\n",
       "    <tr>\n",
       "      <th>97</th>\n",
       "      <td>wicket-iziToast\\nApache Wicket utilities for u...</td>\n",
       "      <td>No summary</td>\n",
       "    </tr>\n",
       "    <tr>\n",
       "      <th>98</th>\n",
       "      <td>Wicket-tutorial-examples\\nThis repository cont...</td>\n",
       "      <td>Wicket-tutorial-examples contains the example ...</td>\n",
       "    </tr>\n",
       "    <tr>\n",
       "      <th>99</th>\n",
       "      <td>wrappedelements\\n\\n\\n\\nA convenient framework ...</td>\n",
       "      <td>No summary</td>\n",
       "    </tr>\n",
       "    <tr>\n",
       "      <th>100</th>\n",
       "      <td>[toc]\\nYangMVC\\n下载地址\\nhttps://git.oschina.net/...</td>\n",
       "      <td>No summary</td>\n",
       "    </tr>\n",
       "  </tbody>\n",
       "</table>\n",
       "<p>101 rows × 2 columns</p>\n",
       "</div>"
      ],
      "text/plain": [
       "                                         original_text  \\\n",
       "0    \\nAlchemy:\\n\\nalchemy是以Jhipster为脚手架开发的web系统，能够...   \n",
       "1    Android HTTP Server\\nSmall but powerful multit...   \n",
       "2    Android Web Server (FireFly)\\nSimple and Small...   \n",
       "3    Auto Web Launcher\\nA simple App to launch webp...   \n",
       "4    React Native Anywhere Alert Confirm\\nOverview\\...   \n",
       "..                                                 ...   \n",
       "96   Introduction\\nThe project is the backend solut...   \n",
       "97   wicket-iziToast\\nApache Wicket utilities for u...   \n",
       "98   Wicket-tutorial-examples\\nThis repository cont...   \n",
       "99   wrappedelements\\n\\n\\n\\nA convenient framework ...   \n",
       "100  [toc]\\nYangMVC\\n下载地址\\nhttps://git.oschina.net/...   \n",
       "\n",
       "                                               summary  \n",
       "0    Alchemy is a web-based web app. It uses the Fl...  \n",
       "1                                           No summary  \n",
       "2    Android Web Server (FireFly) is a TCP/IP Web S...  \n",
       "3    A simple App to launch webpages at full screen...  \n",
       "4    React Native Anywhere Alert Confirm provides a...  \n",
       "..                                                 ...  \n",
       "96                                          No summary  \n",
       "97                                          No summary  \n",
       "98   Wicket-tutorial-examples contains the example ...  \n",
       "99                                          No summary  \n",
       "100                                         No summary  \n",
       "\n",
       "[101 rows x 2 columns]"
      ]
     },
     "execution_count": 19,
     "metadata": {},
     "output_type": "execute_result"
    }
   ],
   "source": [
    "import os\n",
    "import shutil \n",
    "\n",
    "repos_path = os.path.join('data', 'repos', 'traditional')\n",
    "\n",
    "summaries = []\n",
    "for folder in os.listdir(repos_path):\n",
    "    folder_path = os.path.join(repos_path, folder)\n",
    "    readme_file = os.path.join(folder_path, 'README.md')\n",
    "    \n",
    "    if os.path.exists(readme_file):\n",
    "        summary = summarize_helper(readme_file)\n",
    "        summaries.append(summary)\n",
    "        print(\"The readme is summarized for \", folder_path)\n",
    "    else:\n",
    "        try:\n",
    "            shutil.rmtree(folder_path)\n",
    "            count +=1\n",
    "            print(f\"Folder '{folder_path}' has been deleted\")\n",
    "        except OSError as e:\n",
    "            print(f\"Error: {e}. Folder '{folder_path}' is not empty or cannot be deleted\")\n",
    "    \n",
    "\n",
    "print(\"Total folders deleted\", count)\n",
    "df = pd.df = pd.DataFrame(summaries)\n",
    "df.to_csv('summaries_trad.csv')\n",
    "df"
   ]
  },
  {
   "cell_type": "code",
   "execution_count": 5,
   "id": "b9278c1b",
   "metadata": {},
   "outputs": [
    {
     "ename": "AttributeError",
     "evalue": "'list' object has no attribute 'to_csv'",
     "output_type": "error",
     "traceback": [
      "\u001b[1;31m---------------------------------------------------------------------------\u001b[0m",
      "\u001b[1;31mAttributeError\u001b[0m                            Traceback (most recent call last)",
      "Cell \u001b[1;32mIn[5], line 16\u001b[0m\n\u001b[0;32m     14\u001b[0m \u001b[38;5;28;01mif\u001b[39;00m os\u001b[38;5;241m.\u001b[39mpath\u001b[38;5;241m.\u001b[39mexists(readme_file):\n\u001b[0;32m     15\u001b[0m     df \u001b[38;5;241m=\u001b[39m tag_readme(readme_file)\n\u001b[1;32m---> 16\u001b[0m     df\u001b[38;5;241m.\u001b[39mto_csv(os\u001b[38;5;241m.\u001b[39mpath\u001b[38;5;241m.\u001b[39mjoin(folder_path, \u001b[38;5;124m\"\u001b[39m\u001b[38;5;124mentities.csv\u001b[39m\u001b[38;5;124m\"\u001b[39m), index\u001b[38;5;241m=\u001b[39m\u001b[38;5;28;01mFalse\u001b[39;00m)\n\u001b[0;32m     17\u001b[0m     \u001b[38;5;28mprint\u001b[39m(\u001b[38;5;124m\"\u001b[39m\u001b[38;5;124mentities written to \u001b[39m\u001b[38;5;124m\"\u001b[39m, folder_path)\n\u001b[0;32m     18\u001b[0m \u001b[38;5;28;01melse\u001b[39;00m:\n",
      "\u001b[1;31mAttributeError\u001b[0m: 'list' object has no attribute 'to_csv'"
     ]
    }
   ],
   "source": [
    "import os\n",
    "import shutil \n",
    "\n",
    "repos_path = os.path.join('data', 'repos', 'traditional')\n",
    "analyzed_repos_path = os.path.join('data', 'analyzed_repos', 'traditional')\n",
    "dj_file_path = os.path.join('apps', 'DJ', 'DesigniteJava.jar')\n",
    "\n",
    "\n",
    "count = 0\n",
    "for folder in os.listdir(repos_path):\n",
    "    folder_path = os.path.join(repos_path, folder)\n",
    "    readme_file = os.path.join(folder_path, 'README.md')\n",
    "    \n",
    "    if os.path.exists(readme_file):\n",
    "        df = tag_readme(readme_file)\n",
    "        df.to_csv(os.path.join(folder_path, \"entities.csv\"), index=False)\n",
    "        print(\"entities written to \", folder_path)\n",
    "    else:\n",
    "        try:\n",
    "            shutil.rmtree(folder_path)\n",
    "            count +=1\n",
    "            print(f\"Folder '{folder_path}' has been deleted\")\n",
    "        except OSError as e:\n",
    "            print(f\"Error: {e}. Folder '{folder_path}' is not empty or cannot be deleted\")\n",
    "\n",
    "print(\"Total folders deleted\", count)"
   ]
  },
  {
   "cell_type": "code",
   "execution_count": 49,
   "id": "fe536314",
   "metadata": {},
   "outputs": [
    {
     "name": "stdout",
     "output_type": "stream",
     "text": [
      "data\\categories\\traditional\\I-ORG\\alchemy  Already present\n",
      "data\\categories\\traditional\\I-ORG\\android-http-server  Already present\n",
      "data\\categories\\traditional\\I-ORG\\Android-Web-Server  Already present\n",
      "data\\categories\\traditional\\I-ORG\\AndroidWebAutoLaunch  Already present\n",
      "data\\categories\\traditional\\I-ORG\\AnywhereAlertConfirm  Already present\n",
      "data\\categories\\traditional\\I-ORG\\APKMirror  Already present\n",
      "data\\categories\\traditional\\I-ORG\\app  Already present\n",
      "data\\categories\\traditional\\I-ORG\\Arkhota  Already present\n",
      "data\\categories\\traditional\\I-ORG\\automotion-java  Already present\n",
      "data\\categories\\traditional\\I-ORG\\avaje-jex  Already present\n",
      "data\\categories\\traditional\\I-ORG\\botwall4j  Already present\n",
      "data\\categories\\traditional\\I-ORG\\boyka-framework  Already present\n",
      "data\\categories\\traditional\\I-ORG\\bring  Already present\n",
      "data\\categories\\traditional\\I-ORG\\BUbiNG  Already present\n",
      "data\\categories\\traditional\\I-ORG\\buildvu-microservice-example  Already present\n",
      "data\\categories\\traditional\\I-ORG\\capacitor-firebase  Already present\n",
      "data\\categories\\traditional\\I-ORG\\CatLogging  Already present\n",
      "data\\categories\\traditional\\I-ORG\\chaos-server  Already present\n",
      "data\\categories\\traditional\\I-ORG\\dataviewer  Already present\n",
      "data\\categories\\traditional\\I-ORG\\dicom-web-pacs  Already present\n",
      "data\\categories\\traditional\\I-ORG\\DiscoveryDesktop  Already present\n",
      "data\\categories\\traditional\\I-ORG\\DiskMirror  Already present\n",
      "data\\categories\\traditional\\I-ORG\\dotenv  Already present\n",
      "data\\categories\\traditional\\I-ORG\\e-commerce  Already present\n",
      "data\\categories\\traditional\\I-ORG\\espresso  Already present\n",
      "data\\categories\\traditional\\I-ORG\\fili  Already present\n",
      "data\\categories\\traditional\\I-ORG\\firefly  Already present\n",
      "data\\categories\\traditional\\I-ORG\\Gamp-Forest-site  Already present\n",
      "data\\categories\\traditional\\I-ORG\\gcn-intellij-tooling  Already present\n",
      "data\\categories\\traditional\\I-ORG\\gwt-ol  Already present\n",
      "data\\categories\\traditional\\I-ORG\\Hacktoberfest-2022  Already present\n",
      "data\\categories\\traditional\\I-ORG\\HtmlNative  Already present\n",
      "data\\categories\\traditional\\I-ORG\\java-reverse-tcp  Already present\n",
      "data\\categories\\traditional\\I-ORG\\java-web-exercises  Already present\n",
      "data\\categories\\traditional\\I-ORG\\javafx-dataviewer-wrapper  Already present\n",
      "data\\categories\\traditional\\I-ORG\\JCrawl  Already present\n",
      "data\\categories\\traditional\\I-ORG\\Jerrydog  Already present\n",
      "data\\categories\\traditional\\I-ORG\\JumpGo-for-Android  Already present\n",
      "data\\categories\\traditional\\I-ORG\\Learning_platform  Already present\n",
      "data\\categories\\traditional\\I-ORG\\Liberg  Already present\n",
      "data\\categories\\traditional\\I-ORG\\linwin-sploit  Already present\n",
      "data\\categories\\traditional\\I-ORG\\log-requests-to-sqlite  Already present\n",
      "An error occurred: No columns to parse from file  at  data\\repos\\traditional\\log_generator\n",
      "Copied  data\\repos\\traditional\\LoopAuth to  data\\categories\\traditional\\I-ORG\\LoopAuth\n",
      "Copied  data\\repos\\traditional\\Lucid-Browser to  data\\categories\\traditional\\I-ORG\\Lucid-Browser\n",
      "An error occurred: No columns to parse from file  at  data\\repos\\traditional\\magic-starter\n",
      "Copied  data\\repos\\traditional\\mailspider to  data\\categories\\traditional\\I-ORG\\mailspider\n",
      "Copied  data\\repos\\traditional\\metl to  data\\categories\\traditional\\I-ORG\\metl\n",
      "Copied  data\\repos\\traditional\\modern-app-dev to  data\\categories\\traditional\\I-ORG\\modern-app-dev\n",
      "Copied  data\\repos\\traditional\\molecule to  data\\categories\\traditional\\I-ORG\\molecule\n",
      "Copied  data\\repos\\traditional\\MotoGP-API to  data\\categories\\traditional\\I-ORG\\MotoGP-API\n",
      "Copied  data\\repos\\traditional\\ng-objects to  data\\categories\\traditional\\I-ORG\\ng-objects\n",
      "Copied  data\\repos\\traditional\\OpenChess to  data\\categories\\traditional\\I-ORG\\OpenChess\n",
      "An error occurred: No columns to parse from file  at  data\\repos\\traditional\\OpenKettleWebUI\n",
      "Copied  data\\repos\\traditional\\openlibs.easywebframework to  data\\categories\\traditional\\I-ORG\\openlibs.easywebframework\n",
      "Copied  data\\repos\\traditional\\openLinwin to  data\\categories\\traditional\\I-ORG\\openLinwin\n",
      "Copied  data\\repos\\traditional\\parsec to  data\\categories\\traditional\\I-ORG\\parsec\n",
      "Copied  data\\repos\\traditional\\parsec-libraries to  data\\categories\\traditional\\I-ORG\\parsec-libraries\n",
      "Copied  data\\repos\\traditional\\ph-oton to  data\\categories\\traditional\\I-ORG\\ph-oton\n",
      "Copied  data\\repos\\traditional\\qaf to  data\\categories\\traditional\\I-ORG\\qaf\n",
      "Copied  data\\repos\\traditional\\quarkus-primefaces to  data\\categories\\traditional\\I-ORG\\quarkus-primefaces\n",
      "Copied  data\\repos\\traditional\\quarkus-quinoa to  data\\categories\\traditional\\I-ORG\\quarkus-quinoa\n",
      "Copied  data\\repos\\traditional\\quarkus-web-bundler to  data\\categories\\traditional\\I-ORG\\quarkus-web-bundler\n",
      "Copied  data\\repos\\traditional\\react-native-social-fab to  data\\categories\\traditional\\I-ORG\\react-native-social-fab\n",
      "Copied  data\\repos\\traditional\\redant to  data\\categories\\traditional\\I-ORG\\redant\n",
      "Copied  data\\repos\\traditional\\reqn to  data\\categories\\traditional\\I-ORG\\reqn\n",
      "Copied  data\\repos\\traditional\\retail-banking to  data\\categories\\traditional\\I-ORG\\retail-banking\n",
      "Copied  data\\repos\\traditional\\rife2 to  data\\categories\\traditional\\I-ORG\\rife2\n",
      "Copied  data\\repos\\traditional\\riptide to  data\\categories\\traditional\\I-ORG\\riptide\n",
      "Copied  data\\repos\\traditional\\RiseLoader to  data\\categories\\traditional\\I-ORG\\RiseLoader\n",
      "Copied  data\\repos\\traditional\\routekit to  data\\categories\\traditional\\I-ORG\\routekit\n",
      "Copied  data\\repos\\traditional\\rtsp-websocket-server to  data\\categories\\traditional\\I-ORG\\rtsp-websocket-server\n",
      "Copied  data\\repos\\traditional\\seed to  data\\categories\\traditional\\I-ORG\\seed\n",
      "Copied  data\\repos\\traditional\\Setool-Main to  data\\categories\\traditional\\I-ORG\\Setool-Main\n",
      "Copied  data\\repos\\traditional\\sfe4j to  data\\categories\\traditional\\I-ORG\\sfe4j\n",
      "Error: [('data\\\\repos\\\\traditional\\\\shoulder-framework\\\\shoulder-build\\\\shoulder-starters\\\\shoulder-autoconfiguration\\\\target\\\\classes\\\\org\\\\shoulder\\\\autoconfigure\\\\batch\\\\ShoulderBatchAutoConfiguration$DefaultMemoryBatchRecordAutoConfiguration.class', 'data\\\\categories\\\\traditional\\\\I-ORG\\\\shoulder-framework\\\\shoulder-build\\\\shoulder-starters\\\\shoulder-autoconfiguration\\\\target\\\\classes\\\\org\\\\shoulder\\\\autoconfigure\\\\batch\\\\ShoulderBatchAutoConfiguration$DefaultMemoryBatchRecordAutoConfiguration.class', \"[Errno 2] No such file or directory: 'data\\\\\\\\categories\\\\\\\\traditional\\\\\\\\I-ORG\\\\\\\\shoulder-framework\\\\\\\\shoulder-build\\\\\\\\shoulder-starters\\\\\\\\shoulder-autoconfiguration\\\\\\\\target\\\\\\\\classes\\\\\\\\org\\\\\\\\shoulder\\\\\\\\autoconfigure\\\\\\\\batch\\\\\\\\ShoulderBatchAutoConfiguration$DefaultMemoryBatchRecordAutoConfiguration.class'\"), ('data\\\\repos\\\\traditional\\\\shoulder-framework\\\\shoulder-build\\\\shoulder-starters\\\\shoulder-autoconfiguration\\\\target\\\\classes\\\\org\\\\shoulder\\\\autoconfigure\\\\batch\\\\ShoulderBatchAutoConfiguration$SpringCacheBatchRecordAutoConfiguration.class', 'data\\\\categories\\\\traditional\\\\I-ORG\\\\shoulder-framework\\\\shoulder-build\\\\shoulder-starters\\\\shoulder-autoconfiguration\\\\target\\\\classes\\\\org\\\\shoulder\\\\autoconfigure\\\\batch\\\\ShoulderBatchAutoConfiguration$SpringCacheBatchRecordAutoConfiguration.class', \"[Errno 2] No such file or directory: 'data\\\\\\\\categories\\\\\\\\traditional\\\\\\\\I-ORG\\\\\\\\shoulder-framework\\\\\\\\shoulder-build\\\\\\\\shoulder-starters\\\\\\\\shoulder-autoconfiguration\\\\\\\\target\\\\\\\\classes\\\\\\\\org\\\\\\\\shoulder\\\\\\\\autoconfigure\\\\\\\\batch\\\\\\\\ShoulderBatchAutoConfiguration$SpringCacheBatchRecordAutoConfiguration.class'\"), ('data\\\\repos\\\\traditional\\\\shoulder-framework\\\\shoulder-build\\\\shoulder-starters\\\\shoulder-autoconfiguration\\\\target\\\\classes\\\\org\\\\shoulder\\\\autoconfigure\\\\cache\\\\ShoulderCacheManagerAutoConfiguration$CaffeineCacheManagerAutoConfiguration.class', 'data\\\\categories\\\\traditional\\\\I-ORG\\\\shoulder-framework\\\\shoulder-build\\\\shoulder-starters\\\\shoulder-autoconfiguration\\\\target\\\\classes\\\\org\\\\shoulder\\\\autoconfigure\\\\cache\\\\ShoulderCacheManagerAutoConfiguration$CaffeineCacheManagerAutoConfiguration.class', \"[Errno 2] No such file or directory: 'data\\\\\\\\categories\\\\\\\\traditional\\\\\\\\I-ORG\\\\\\\\shoulder-framework\\\\\\\\shoulder-build\\\\\\\\shoulder-starters\\\\\\\\shoulder-autoconfiguration\\\\\\\\target\\\\\\\\classes\\\\\\\\org\\\\\\\\shoulder\\\\\\\\autoconfigure\\\\\\\\cache\\\\\\\\ShoulderCacheManagerAutoConfiguration$CaffeineCacheManagerAutoConfiguration.class'\"), ('data\\\\repos\\\\traditional\\\\shoulder-framework\\\\shoulder-build\\\\shoulder-starters\\\\shoulder-autoconfiguration\\\\target\\\\classes\\\\org\\\\shoulder\\\\autoconfigure\\\\cache\\\\ShoulderCacheManagerAutoConfiguration$RedisCacheManagerAutoConfiguration.class', 'data\\\\categories\\\\traditional\\\\I-ORG\\\\shoulder-framework\\\\shoulder-build\\\\shoulder-starters\\\\shoulder-autoconfiguration\\\\target\\\\classes\\\\org\\\\shoulder\\\\autoconfigure\\\\cache\\\\ShoulderCacheManagerAutoConfiguration$RedisCacheManagerAutoConfiguration.class', \"[Errno 2] No such file or directory: 'data\\\\\\\\categories\\\\\\\\traditional\\\\\\\\I-ORG\\\\\\\\shoulder-framework\\\\\\\\shoulder-build\\\\\\\\shoulder-starters\\\\\\\\shoulder-autoconfiguration\\\\\\\\target\\\\\\\\classes\\\\\\\\org\\\\\\\\shoulder\\\\\\\\autoconfigure\\\\\\\\cache\\\\\\\\ShoulderCacheManagerAutoConfiguration$RedisCacheManagerAutoConfiguration.class'\"), ('data\\\\repos\\\\traditional\\\\shoulder-framework\\\\shoulder-build\\\\shoulder-starters\\\\shoulder-autoconfiguration\\\\target\\\\classes\\\\org\\\\shoulder\\\\autoconfigure\\\\crypto\\\\AsymmetricCryptoAutoConfiguration$AsymmetricKeyClusterPairCacheConfig.class', 'data\\\\categories\\\\traditional\\\\I-ORG\\\\shoulder-framework\\\\shoulder-build\\\\shoulder-starters\\\\shoulder-autoconfiguration\\\\target\\\\classes\\\\org\\\\shoulder\\\\autoconfigure\\\\crypto\\\\AsymmetricCryptoAutoConfiguration$AsymmetricKeyClusterPairCacheConfig.class', \"[Errno 2] No such file or directory: 'data\\\\\\\\categories\\\\\\\\traditional\\\\\\\\I-ORG\\\\\\\\shoulder-framework\\\\\\\\shoulder-build\\\\\\\\shoulder-starters\\\\\\\\shoulder-autoconfiguration\\\\\\\\target\\\\\\\\classes\\\\\\\\org\\\\\\\\shoulder\\\\\\\\autoconfigure\\\\\\\\crypto\\\\\\\\AsymmetricCryptoAutoConfiguration$AsymmetricKeyClusterPairCacheConfig.class'\"), ('data\\\\repos\\\\traditional\\\\shoulder-framework\\\\shoulder-build\\\\shoulder-starters\\\\shoulder-autoconfiguration\\\\target\\\\classes\\\\org\\\\shoulder\\\\autoconfigure\\\\crypto\\\\AsymmetricCryptoAutoConfiguration$AsymmetricKeyNonClusterPairCacheConfig.class', 'data\\\\categories\\\\traditional\\\\I-ORG\\\\shoulder-framework\\\\shoulder-build\\\\shoulder-starters\\\\shoulder-autoconfiguration\\\\target\\\\classes\\\\org\\\\shoulder\\\\autoconfigure\\\\crypto\\\\AsymmetricCryptoAutoConfiguration$AsymmetricKeyNonClusterPairCacheConfig.class', \"[Errno 2] No such file or directory: 'data\\\\\\\\categories\\\\\\\\traditional\\\\\\\\I-ORG\\\\\\\\shoulder-framework\\\\\\\\shoulder-build\\\\\\\\shoulder-starters\\\\\\\\shoulder-autoconfiguration\\\\\\\\target\\\\\\\\classes\\\\\\\\org\\\\\\\\shoulder\\\\\\\\autoconfigure\\\\\\\\crypto\\\\\\\\AsymmetricCryptoAutoConfiguration$AsymmetricKeyNonClusterPairCacheConfig.class'\"), ('data\\\\repos\\\\traditional\\\\shoulder-framework\\\\shoulder-build\\\\shoulder-starters\\\\shoulder-autoconfiguration\\\\target\\\\classes\\\\org\\\\shoulder\\\\autoconfigure\\\\crypto\\\\LocalCryptoAutoConfiguration$HashMapLocalCryptoInfoRepositoryAutoConfiguration.class', 'data\\\\categories\\\\traditional\\\\I-ORG\\\\shoulder-framework\\\\shoulder-build\\\\shoulder-starters\\\\shoulder-autoconfiguration\\\\target\\\\classes\\\\org\\\\shoulder\\\\autoconfigure\\\\crypto\\\\LocalCryptoAutoConfiguration$HashMapLocalCryptoInfoRepositoryAutoConfiguration.class', \"[Errno 2] No such file or directory: 'data\\\\\\\\repos\\\\\\\\traditional\\\\\\\\shoulder-framework\\\\\\\\shoulder-build\\\\\\\\shoulder-starters\\\\\\\\shoulder-autoconfiguration\\\\\\\\target\\\\\\\\classes\\\\\\\\org\\\\\\\\shoulder\\\\\\\\autoconfigure\\\\\\\\crypto\\\\\\\\LocalCryptoAutoConfiguration$HashMapLocalCryptoInfoRepositoryAutoConfiguration.class'\"), ('data\\\\repos\\\\traditional\\\\shoulder-framework\\\\shoulder-build\\\\shoulder-starters\\\\shoulder-autoconfiguration\\\\target\\\\classes\\\\org\\\\shoulder\\\\autoconfigure\\\\crypto\\\\LocalCryptoAutoConfiguration$JdbcLocalCryptoInfoRepositoryAutoConfiguration.class', 'data\\\\categories\\\\traditional\\\\I-ORG\\\\shoulder-framework\\\\shoulder-build\\\\shoulder-starters\\\\shoulder-autoconfiguration\\\\target\\\\classes\\\\org\\\\shoulder\\\\autoconfigure\\\\crypto\\\\LocalCryptoAutoConfiguration$JdbcLocalCryptoInfoRepositoryAutoConfiguration.class', \"[Errno 2] No such file or directory: 'data\\\\\\\\categories\\\\\\\\traditional\\\\\\\\I-ORG\\\\\\\\shoulder-framework\\\\\\\\shoulder-build\\\\\\\\shoulder-starters\\\\\\\\shoulder-autoconfiguration\\\\\\\\target\\\\\\\\classes\\\\\\\\org\\\\\\\\shoulder\\\\\\\\autoconfigure\\\\\\\\crypto\\\\\\\\LocalCryptoAutoConfiguration$JdbcLocalCryptoInfoRepositoryAutoConfiguration.class'\"), ('data\\\\repos\\\\traditional\\\\shoulder-framework\\\\shoulder-build\\\\shoulder-starters\\\\shoulder-autoconfiguration\\\\target\\\\classes\\\\org\\\\shoulder\\\\autoconfigure\\\\crypto\\\\LocalCryptoAutoConfiguration$RedisLocalCryptoInfoRepositoryAutoConfiguration.class', 'data\\\\categories\\\\traditional\\\\I-ORG\\\\shoulder-framework\\\\shoulder-build\\\\shoulder-starters\\\\shoulder-autoconfiguration\\\\target\\\\classes\\\\org\\\\shoulder\\\\autoconfigure\\\\crypto\\\\LocalCryptoAutoConfiguration$RedisLocalCryptoInfoRepositoryAutoConfiguration.class', \"[Errno 2] No such file or directory: 'data\\\\\\\\categories\\\\\\\\traditional\\\\\\\\I-ORG\\\\\\\\shoulder-framework\\\\\\\\shoulder-build\\\\\\\\shoulder-starters\\\\\\\\shoulder-autoconfiguration\\\\\\\\target\\\\\\\\classes\\\\\\\\org\\\\\\\\shoulder\\\\\\\\autoconfigure\\\\\\\\crypto\\\\\\\\LocalCryptoAutoConfiguration$RedisLocalCryptoInfoRepositoryAutoConfiguration.class'\"), ('data\\\\repos\\\\traditional\\\\shoulder-framework\\\\shoulder-build\\\\shoulder-starters\\\\shoulder-autoconfiguration\\\\target\\\\classes\\\\org\\\\shoulder\\\\autoconfigure\\\\crypto\\\\LocalCryptoAutoConfiguration$TempFileLocalCryptoInfoRepositoryAutoConfiguration.class', 'data\\\\categories\\\\traditional\\\\I-ORG\\\\shoulder-framework\\\\shoulder-build\\\\shoulder-starters\\\\shoulder-autoconfiguration\\\\target\\\\classes\\\\org\\\\shoulder\\\\autoconfigure\\\\crypto\\\\LocalCryptoAutoConfiguration$TempFileLocalCryptoInfoRepositoryAutoConfiguration.class', \"[Errno 2] No such file or directory: 'data\\\\\\\\repos\\\\\\\\traditional\\\\\\\\shoulder-framework\\\\\\\\shoulder-build\\\\\\\\shoulder-starters\\\\\\\\shoulder-autoconfiguration\\\\\\\\target\\\\\\\\classes\\\\\\\\org\\\\\\\\shoulder\\\\\\\\autoconfigure\\\\\\\\crypto\\\\\\\\LocalCryptoAutoConfiguration$TempFileLocalCryptoInfoRepositoryAutoConfiguration.class'\"), ('data\\\\repos\\\\traditional\\\\shoulder-framework\\\\shoulder-build\\\\shoulder-starters\\\\shoulder-autoconfiguration\\\\target\\\\classes\\\\org\\\\shoulder\\\\autoconfigure\\\\crypto\\\\TransportCryptoAutoConfiguration$KeyNegotiationCacheClusterAutoConfiguration.class', 'data\\\\categories\\\\traditional\\\\I-ORG\\\\shoulder-framework\\\\shoulder-build\\\\shoulder-starters\\\\shoulder-autoconfiguration\\\\target\\\\classes\\\\org\\\\shoulder\\\\autoconfigure\\\\crypto\\\\TransportCryptoAutoConfiguration$KeyNegotiationCacheClusterAutoConfiguration.class', \"[Errno 2] No such file or directory: 'data\\\\\\\\categories\\\\\\\\traditional\\\\\\\\I-ORG\\\\\\\\shoulder-framework\\\\\\\\shoulder-build\\\\\\\\shoulder-starters\\\\\\\\shoulder-autoconfiguration\\\\\\\\target\\\\\\\\classes\\\\\\\\org\\\\\\\\shoulder\\\\\\\\autoconfigure\\\\\\\\crypto\\\\\\\\TransportCryptoAutoConfiguration$KeyNegotiationCacheClusterAutoConfiguration.class'\"), ('data\\\\repos\\\\traditional\\\\shoulder-framework\\\\shoulder-build\\\\shoulder-starters\\\\shoulder-autoconfiguration\\\\target\\\\classes\\\\org\\\\shoulder\\\\autoconfigure\\\\crypto\\\\TransportCryptoAutoConfiguration$KeyNegotiationCacheLocalAutoConfiguration.class', 'data\\\\categories\\\\traditional\\\\I-ORG\\\\shoulder-framework\\\\shoulder-build\\\\shoulder-starters\\\\shoulder-autoconfiguration\\\\target\\\\classes\\\\org\\\\shoulder\\\\autoconfigure\\\\crypto\\\\TransportCryptoAutoConfiguration$KeyNegotiationCacheLocalAutoConfiguration.class', \"[Errno 2] No such file or directory: 'data\\\\\\\\categories\\\\\\\\traditional\\\\\\\\I-ORG\\\\\\\\shoulder-framework\\\\\\\\shoulder-build\\\\\\\\shoulder-starters\\\\\\\\shoulder-autoconfiguration\\\\\\\\target\\\\\\\\classes\\\\\\\\org\\\\\\\\shoulder\\\\\\\\autoconfigure\\\\\\\\crypto\\\\\\\\TransportCryptoAutoConfiguration$KeyNegotiationCacheLocalAutoConfiguration.class'\"), ('data\\\\repos\\\\traditional\\\\shoulder-framework\\\\shoulder-build\\\\shoulder-starters\\\\shoulder-autoconfiguration\\\\target\\\\classes\\\\org\\\\shoulder\\\\autoconfigure\\\\guid\\\\InstanceIdProviderAutoConfiguration$RedisInstanceIdProviderConfiguration.class', 'data\\\\categories\\\\traditional\\\\I-ORG\\\\shoulder-framework\\\\shoulder-build\\\\shoulder-starters\\\\shoulder-autoconfiguration\\\\target\\\\classes\\\\org\\\\shoulder\\\\autoconfigure\\\\guid\\\\InstanceIdProviderAutoConfiguration$RedisInstanceIdProviderConfiguration.class', \"[Errno 2] No such file or directory: 'data\\\\\\\\categories\\\\\\\\traditional\\\\\\\\I-ORG\\\\\\\\shoulder-framework\\\\\\\\shoulder-build\\\\\\\\shoulder-starters\\\\\\\\shoulder-autoconfiguration\\\\\\\\target\\\\\\\\classes\\\\\\\\org\\\\\\\\shoulder\\\\\\\\autoconfigure\\\\\\\\guid\\\\\\\\InstanceIdProviderAutoConfiguration$RedisInstanceIdProviderConfiguration.class'\"), ('data\\\\repos\\\\traditional\\\\shoulder-framework\\\\shoulder-build\\\\shoulder-starters\\\\shoulder-autoconfiguration\\\\target\\\\classes\\\\org\\\\shoulder\\\\autoconfigure\\\\security\\\\AuthenticationHandlerConfig$RedirectResponseHandlerConfiguration.class', 'data\\\\categories\\\\traditional\\\\I-ORG\\\\shoulder-framework\\\\shoulder-build\\\\shoulder-starters\\\\shoulder-autoconfiguration\\\\target\\\\classes\\\\org\\\\shoulder\\\\autoconfigure\\\\security\\\\AuthenticationHandlerConfig$RedirectResponseHandlerConfiguration.class', \"[Errno 2] No such file or directory: 'data\\\\\\\\categories\\\\\\\\traditional\\\\\\\\I-ORG\\\\\\\\shoulder-framework\\\\\\\\shoulder-build\\\\\\\\shoulder-starters\\\\\\\\shoulder-autoconfiguration\\\\\\\\target\\\\\\\\classes\\\\\\\\org\\\\\\\\shoulder\\\\\\\\autoconfigure\\\\\\\\security\\\\\\\\AuthenticationHandlerConfig$RedirectResponseHandlerConfiguration.class'\"), ('data\\\\repos\\\\traditional\\\\shoulder-framework\\\\shoulder-build\\\\shoulder-starters\\\\shoulder-autoconfiguration\\\\target\\\\classes\\\\org\\\\shoulder\\\\autoconfigure\\\\security\\\\code\\\\ValidateCodeBeanConfig$MemoryValidateCodeStoreConfiguration.class', 'data\\\\categories\\\\traditional\\\\I-ORG\\\\shoulder-framework\\\\shoulder-build\\\\shoulder-starters\\\\shoulder-autoconfiguration\\\\target\\\\classes\\\\org\\\\shoulder\\\\autoconfigure\\\\security\\\\code\\\\ValidateCodeBeanConfig$MemoryValidateCodeStoreConfiguration.class', \"[Errno 2] No such file or directory: 'data\\\\\\\\categories\\\\\\\\traditional\\\\\\\\I-ORG\\\\\\\\shoulder-framework\\\\\\\\shoulder-build\\\\\\\\shoulder-starters\\\\\\\\shoulder-autoconfiguration\\\\\\\\target\\\\\\\\classes\\\\\\\\org\\\\\\\\shoulder\\\\\\\\autoconfigure\\\\\\\\security\\\\\\\\code\\\\\\\\ValidateCodeBeanConfig$MemoryValidateCodeStoreConfiguration.class'\"), ('data\\\\repos\\\\traditional\\\\shoulder-framework\\\\shoulder-build\\\\shoulder-starters\\\\shoulder-autoconfiguration\\\\target\\\\classes\\\\org\\\\shoulder\\\\autoconfigure\\\\security\\\\token\\\\TokenAuthBeanConfiguration$TokenStoreConfig$InMemoryTokenStoreConfig.class', 'data\\\\categories\\\\traditional\\\\I-ORG\\\\shoulder-framework\\\\shoulder-build\\\\shoulder-starters\\\\shoulder-autoconfiguration\\\\target\\\\classes\\\\org\\\\shoulder\\\\autoconfigure\\\\security\\\\token\\\\TokenAuthBeanConfiguration$TokenStoreConfig$InMemoryTokenStoreConfig.class', \"[Errno 2] No such file or directory: 'data\\\\\\\\categories\\\\\\\\traditional\\\\\\\\I-ORG\\\\\\\\shoulder-framework\\\\\\\\shoulder-build\\\\\\\\shoulder-starters\\\\\\\\shoulder-autoconfiguration\\\\\\\\target\\\\\\\\classes\\\\\\\\org\\\\\\\\shoulder\\\\\\\\autoconfigure\\\\\\\\security\\\\\\\\token\\\\\\\\TokenAuthBeanConfiguration$TokenStoreConfig$InMemoryTokenStoreConfig.class'\"), ('data\\\\repos\\\\traditional\\\\shoulder-framework\\\\shoulder-build\\\\shoulder-starters\\\\shoulder-autoconfiguration\\\\target\\\\classes\\\\org\\\\shoulder\\\\autoconfigure\\\\security\\\\token\\\\TokenAuthBeanConfiguration$TokenStoreConfig$JdbcTokenStoreConfig.class', 'data\\\\categories\\\\traditional\\\\I-ORG\\\\shoulder-framework\\\\shoulder-build\\\\shoulder-starters\\\\shoulder-autoconfiguration\\\\target\\\\classes\\\\org\\\\shoulder\\\\autoconfigure\\\\security\\\\token\\\\TokenAuthBeanConfiguration$TokenStoreConfig$JdbcTokenStoreConfig.class', \"[Errno 2] No such file or directory: 'data\\\\\\\\categories\\\\\\\\traditional\\\\\\\\I-ORG\\\\\\\\shoulder-framework\\\\\\\\shoulder-build\\\\\\\\shoulder-starters\\\\\\\\shoulder-autoconfiguration\\\\\\\\target\\\\\\\\classes\\\\\\\\org\\\\\\\\shoulder\\\\\\\\autoconfigure\\\\\\\\security\\\\\\\\token\\\\\\\\TokenAuthBeanConfiguration$TokenStoreConfig$JdbcTokenStoreConfig.class'\"), ('data\\\\repos\\\\traditional\\\\shoulder-framework\\\\shoulder-build\\\\shoulder-starters\\\\shoulder-autoconfiguration\\\\target\\\\classes\\\\org\\\\shoulder\\\\autoconfigure\\\\security\\\\token\\\\TokenAuthBeanConfiguration$TokenStoreConfig$JwtTokenStoreConfig.class', 'data\\\\categories\\\\traditional\\\\I-ORG\\\\shoulder-framework\\\\shoulder-build\\\\shoulder-starters\\\\shoulder-autoconfiguration\\\\target\\\\classes\\\\org\\\\shoulder\\\\autoconfigure\\\\security\\\\token\\\\TokenAuthBeanConfiguration$TokenStoreConfig$JwtTokenStoreConfig.class', \"[Errno 2] No such file or directory: 'data\\\\\\\\categories\\\\\\\\traditional\\\\\\\\I-ORG\\\\\\\\shoulder-framework\\\\\\\\shoulder-build\\\\\\\\shoulder-starters\\\\\\\\shoulder-autoconfiguration\\\\\\\\target\\\\\\\\classes\\\\\\\\org\\\\\\\\shoulder\\\\\\\\autoconfigure\\\\\\\\security\\\\\\\\token\\\\\\\\TokenAuthBeanConfiguration$TokenStoreConfig$JwtTokenStoreConfig.class'\"), ('data\\\\repos\\\\traditional\\\\shoulder-framework\\\\shoulder-build\\\\shoulder-starters\\\\shoulder-autoconfiguration\\\\target\\\\classes\\\\org\\\\shoulder\\\\autoconfigure\\\\security\\\\token\\\\TokenAuthBeanConfiguration$TokenStoreConfig$RedisTokenStoreConfig.class', 'data\\\\categories\\\\traditional\\\\I-ORG\\\\shoulder-framework\\\\shoulder-build\\\\shoulder-starters\\\\shoulder-autoconfiguration\\\\target\\\\classes\\\\org\\\\shoulder\\\\autoconfigure\\\\security\\\\token\\\\TokenAuthBeanConfiguration$TokenStoreConfig$RedisTokenStoreConfig.class', \"[Errno 2] No such file or directory: 'data\\\\\\\\categories\\\\\\\\traditional\\\\\\\\I-ORG\\\\\\\\shoulder-framework\\\\\\\\shoulder-build\\\\\\\\shoulder-starters\\\\\\\\shoulder-autoconfiguration\\\\\\\\target\\\\\\\\classes\\\\\\\\org\\\\\\\\shoulder\\\\\\\\autoconfigure\\\\\\\\security\\\\\\\\token\\\\\\\\TokenAuthBeanConfiguration$TokenStoreConfig$RedisTokenStoreConfig.class'\"), ('data\\\\repos\\\\traditional\\\\shoulder-framework\\\\shoulder-build\\\\shoulder-starters\\\\shoulder-autoconfiguration\\\\target\\\\classes\\\\org\\\\shoulder\\\\autoconfigure\\\\web\\\\WebAdvanceAutoConfiguration$RestControllerDataExceptionAdviceAutoConfiguration.class', 'data\\\\categories\\\\traditional\\\\I-ORG\\\\shoulder-framework\\\\shoulder-build\\\\shoulder-starters\\\\shoulder-autoconfiguration\\\\target\\\\classes\\\\org\\\\shoulder\\\\autoconfigure\\\\web\\\\WebAdvanceAutoConfiguration$RestControllerDataExceptionAdviceAutoConfiguration.class', \"[Errno 2] No such file or directory: 'data\\\\\\\\categories\\\\\\\\traditional\\\\\\\\I-ORG\\\\\\\\shoulder-framework\\\\\\\\shoulder-build\\\\\\\\shoulder-starters\\\\\\\\shoulder-autoconfiguration\\\\\\\\target\\\\\\\\classes\\\\\\\\org\\\\\\\\shoulder\\\\\\\\autoconfigure\\\\\\\\web\\\\\\\\WebAdvanceAutoConfiguration$RestControllerDataExceptionAdviceAutoConfiguration.class'\")]. Folder 'data\\repos\\traditional\\shoulder-framework' cannot be copied\n",
      "Copied  data\\repos\\traditional\\shoulder-framework to  data\\categories\\traditional\\I-ORG\\shoulder-framework\n"
     ]
    },
    {
     "name": "stdout",
     "output_type": "stream",
     "text": [
      "Copied  data\\repos\\traditional\\simplejmx to  data\\categories\\traditional\\I-ORG\\simplejmx\n",
      "Copied  data\\repos\\traditional\\skeleton-starter-flow to  data\\categories\\traditional\\I-ORG\\skeleton-starter-flow\n",
      "Copied  data\\repos\\traditional\\skeleton-starter-flow-spring to  data\\categories\\traditional\\I-ORG\\skeleton-starter-flow-spring\n",
      "Copied  data\\repos\\traditional\\SORMAS-Project to  data\\categories\\traditional\\I-ORG\\SORMAS-Project\n",
      "Copied  data\\repos\\traditional\\spring-s3-properties-loader to  data\\categories\\traditional\\I-ORG\\spring-s3-properties-loader\n",
      "Copied  data\\repos\\traditional\\swim-java-bindings to  data\\categories\\traditional\\I-ORG\\swim-java-bindings\n",
      "Copied  data\\repos\\traditional\\teachingCodeRepo to  data\\categories\\traditional\\I-ORG\\teachingCodeRepo\n",
      "Copied  data\\repos\\traditional\\urlpattern to  data\\categories\\traditional\\I-ORG\\urlpattern\n",
      "An error occurred: No columns to parse from file  at  data\\repos\\traditional\\UserCenter\n",
      "Copied  data\\repos\\traditional\\venom to  data\\categories\\traditional\\I-ORG\\venom\n",
      "Copied  data\\repos\\traditional\\vertx-ddns to  data\\categories\\traditional\\I-ORG\\vertx-ddns\n",
      "Copied  data\\repos\\traditional\\vtm to  data\\categories\\traditional\\I-ORG\\vtm\n",
      "Copied  data\\repos\\traditional\\w2j-cli to  data\\categories\\traditional\\I-ORG\\w2j-cli\n",
      "Copied  data\\repos\\traditional\\web-budget to  data\\categories\\traditional\\I-ORG\\web-budget\n",
      "Copied  data\\repos\\traditional\\Web-DICOM-Management to  data\\categories\\traditional\\I-ORG\\Web-DICOM-Management\n",
      "Copied  data\\repos\\traditional\\WebAndAppUITesting to  data\\categories\\traditional\\I-ORG\\WebAndAppUITesting\n",
      "Copied  data\\repos\\traditional\\webby to  data\\categories\\traditional\\I-ORG\\webby\n",
      "Copied  data\\repos\\traditional\\webinloop to  data\\categories\\traditional\\I-ORG\\webinloop\n",
      "Copied  data\\repos\\traditional\\WeBlocker to  data\\categories\\traditional\\I-ORG\\WeBlocker\n",
      "Copied  data\\repos\\traditional\\webrest-starter to  data\\categories\\traditional\\I-ORG\\webrest-starter\n",
      "An error occurred: No columns to parse from file  at  data\\repos\\traditional\\WebSocketaaS\n",
      "Copied  data\\repos\\traditional\\wicket-iziToast to  data\\categories\\traditional\\I-ORG\\wicket-iziToast\n",
      "Copied  data\\repos\\traditional\\Wicket-tutorial-examples to  data\\categories\\traditional\\I-ORG\\Wicket-tutorial-examples\n",
      "Copied  data\\repos\\traditional\\wrappedelements to  data\\categories\\traditional\\I-ORG\\wrappedelements\n",
      "Copied  data\\repos\\traditional\\YangMVC to  data\\categories\\traditional\\I-ORG\\YangMVC\n"
     ]
    }
   ],
   "source": [
    "import os\n",
    "import shutil \n",
    "\n",
    "repos_path = os.path.join('data', 'repos', 'traditional')\n",
    "cat_path = os.path.join('data', 'categories', 'traditional')\n",
    "\n",
    "for folder in os.listdir(repos_path):\n",
    "    folder_path = os.path.join(repos_path, folder)\n",
    "    entity_path = os.path.join(folder_path, 'entities.csv')\n",
    "    \n",
    "    try:\n",
    "        entity = pd.read_csv(entity_path)\n",
    "    except Exception as e:\n",
    "        print(\"An error occurred:\", e, \" at \", folder_path)\n",
    "        continue\n",
    "\n",
    "    max_row_index = df['Total Count'].idxmax()\n",
    "    max_row = df.iloc[max_row_index]\n",
    "    \n",
    "    entity_folder = os.path.join(cat_path, max_row['Entity'])\n",
    "    \n",
    "    if not os.path.exists(entity_folder):\n",
    "        os.mkdir(entity_folder)\n",
    "    \n",
    "    new_folder_path = os.path.join(entity_folder, folder)\n",
    "    \n",
    "    if os.path.exists(new_folder_path):\n",
    "        print(new_folder_path, \" Already present\")\n",
    "        continue\n",
    "    \n",
    "    try:\n",
    "        shutil.copytree(folder_path, new_folder_path)\n",
    "    except OSError as e:\n",
    "        print(f\"Error: {e}. Folder '{folder_path}' cannot be copied\")\n",
    "\n",
    "        \n",
    "    print(\"Copied \", folder_path, \"to \", new_folder_path)\n",
    "    "
   ]
  },
  {
   "cell_type": "code",
   "execution_count": 50,
   "id": "b3a46cd4",
   "metadata": {},
   "outputs": [
    {
     "name": "stdout",
     "output_type": "stream",
     "text": [
      "Copied  data\\repos\\simulation\\adf-sample-agent-java to  data\\categories\\simulation\\I-ORG\\adf-sample-agent-java\n",
      "Copied  data\\repos\\simulation\\aerie to  data\\categories\\simulation\\I-ORG\\aerie\n",
      "Error: [('data\\\\repos\\\\simulation\\\\AgentWorkbench\\\\eclipseProjects\\\\de.enflexit.awb\\\\bundles\\\\de.enflexit.awb.ws.restapi\\\\xCodgen\\\\target\\\\generated-sources\\\\openapi\\\\src\\\\gen\\\\java\\\\de\\\\enflexit\\\\awb\\\\ws\\\\restapi\\\\gen\\\\InstallationDetailsApiService.java', 'data\\\\categories\\\\simulation\\\\I-ORG\\\\AgentWorkbench\\\\eclipseProjects\\\\de.enflexit.awb\\\\bundles\\\\de.enflexit.awb.ws.restapi\\\\xCodgen\\\\target\\\\generated-sources\\\\openapi\\\\src\\\\gen\\\\java\\\\de\\\\enflexit\\\\awb\\\\ws\\\\restapi\\\\gen\\\\InstallationDetailsApiService.java', \"[Errno 2] No such file or directory: 'data\\\\\\\\categories\\\\\\\\simulation\\\\\\\\I-ORG\\\\\\\\AgentWorkbench\\\\\\\\eclipseProjects\\\\\\\\de.enflexit.awb\\\\\\\\bundles\\\\\\\\de.enflexit.awb.ws.restapi\\\\\\\\xCodgen\\\\\\\\target\\\\\\\\generated-sources\\\\\\\\openapi\\\\\\\\src\\\\\\\\gen\\\\\\\\java\\\\\\\\de\\\\\\\\enflexit\\\\\\\\awb\\\\\\\\ws\\\\\\\\restapi\\\\\\\\gen\\\\\\\\InstallationDetailsApiService.java'\"), ('data\\\\repos\\\\simulation\\\\AgentWorkbench\\\\eclipseProjects\\\\de.enflexit.awb\\\\bundles\\\\de.enflexit.awb.ws.restapi\\\\xCodgen\\\\target\\\\generated-sources\\\\openapi\\\\src\\\\main\\\\java\\\\de\\\\enflexit\\\\awb\\\\ws\\\\restapi\\\\gen\\\\factories\\\\DoRestartApiServiceFactory.java', 'data\\\\categories\\\\simulation\\\\I-ORG\\\\AgentWorkbench\\\\eclipseProjects\\\\de.enflexit.awb\\\\bundles\\\\de.enflexit.awb.ws.restapi\\\\xCodgen\\\\target\\\\generated-sources\\\\openapi\\\\src\\\\main\\\\java\\\\de\\\\enflexit\\\\awb\\\\ws\\\\restapi\\\\gen\\\\factories\\\\DoRestartApiServiceFactory.java', \"[Errno 2] No such file or directory: 'data\\\\\\\\categories\\\\\\\\simulation\\\\\\\\I-ORG\\\\\\\\AgentWorkbench\\\\\\\\eclipseProjects\\\\\\\\de.enflexit.awb\\\\\\\\bundles\\\\\\\\de.enflexit.awb.ws.restapi\\\\\\\\xCodgen\\\\\\\\target\\\\\\\\generated-sources\\\\\\\\openapi\\\\\\\\src\\\\\\\\main\\\\\\\\java\\\\\\\\de\\\\\\\\enflexit\\\\\\\\awb\\\\\\\\ws\\\\\\\\restapi\\\\\\\\gen\\\\\\\\factories\\\\\\\\DoRestartApiServiceFactory.java'\"), ('data\\\\repos\\\\simulation\\\\AgentWorkbench\\\\eclipseProjects\\\\de.enflexit.awb\\\\bundles\\\\de.enflexit.awb.ws.restapi\\\\xCodgen\\\\target\\\\generated-sources\\\\openapi\\\\src\\\\main\\\\java\\\\de\\\\enflexit\\\\awb\\\\ws\\\\restapi\\\\gen\\\\factories\\\\DoUpdateApiServiceFactory.java', 'data\\\\categories\\\\simulation\\\\I-ORG\\\\AgentWorkbench\\\\eclipseProjects\\\\de.enflexit.awb\\\\bundles\\\\de.enflexit.awb.ws.restapi\\\\xCodgen\\\\target\\\\generated-sources\\\\openapi\\\\src\\\\main\\\\java\\\\de\\\\enflexit\\\\awb\\\\ws\\\\restapi\\\\gen\\\\factories\\\\DoUpdateApiServiceFactory.java', \"[Errno 2] No such file or directory: 'data\\\\\\\\categories\\\\\\\\simulation\\\\\\\\I-ORG\\\\\\\\AgentWorkbench\\\\\\\\eclipseProjects\\\\\\\\de.enflexit.awb\\\\\\\\bundles\\\\\\\\de.enflexit.awb.ws.restapi\\\\\\\\xCodgen\\\\\\\\target\\\\\\\\generated-sources\\\\\\\\openapi\\\\\\\\src\\\\\\\\main\\\\\\\\java\\\\\\\\de\\\\\\\\enflexit\\\\\\\\awb\\\\\\\\ws\\\\\\\\restapi\\\\\\\\gen\\\\\\\\factories\\\\\\\\DoUpdateApiServiceFactory.java'\"), ('data\\\\repos\\\\simulation\\\\AgentWorkbench\\\\eclipseProjects\\\\de.enflexit.awb\\\\bundles\\\\de.enflexit.awb.ws.restapi\\\\xCodgen\\\\target\\\\generated-sources\\\\openapi\\\\src\\\\main\\\\java\\\\de\\\\enflexit\\\\awb\\\\ws\\\\restapi\\\\gen\\\\factories\\\\EventLogApiServiceFactory.java', 'data\\\\categories\\\\simulation\\\\I-ORG\\\\AgentWorkbench\\\\eclipseProjects\\\\de.enflexit.awb\\\\bundles\\\\de.enflexit.awb.ws.restapi\\\\xCodgen\\\\target\\\\generated-sources\\\\openapi\\\\src\\\\main\\\\java\\\\de\\\\enflexit\\\\awb\\\\ws\\\\restapi\\\\gen\\\\factories\\\\EventLogApiServiceFactory.java', \"[Errno 2] No such file or directory: 'data\\\\\\\\categories\\\\\\\\simulation\\\\\\\\I-ORG\\\\\\\\AgentWorkbench\\\\\\\\eclipseProjects\\\\\\\\de.enflexit.awb\\\\\\\\bundles\\\\\\\\de.enflexit.awb.ws.restapi\\\\\\\\xCodgen\\\\\\\\target\\\\\\\\generated-sources\\\\\\\\openapi\\\\\\\\src\\\\\\\\main\\\\\\\\java\\\\\\\\de\\\\\\\\enflexit\\\\\\\\awb\\\\\\\\ws\\\\\\\\restapi\\\\\\\\gen\\\\\\\\factories\\\\\\\\EventLogApiServiceFactory.java'\"), ('data\\\\repos\\\\simulation\\\\AgentWorkbench\\\\eclipseProjects\\\\de.enflexit.awb\\\\bundles\\\\de.enflexit.awb.ws.restapi\\\\xCodgen\\\\target\\\\generated-sources\\\\openapi\\\\src\\\\main\\\\java\\\\de\\\\enflexit\\\\awb\\\\ws\\\\restapi\\\\gen\\\\factories\\\\ExecutionStateApiServiceFactory.java', 'data\\\\categories\\\\simulation\\\\I-ORG\\\\AgentWorkbench\\\\eclipseProjects\\\\de.enflexit.awb\\\\bundles\\\\de.enflexit.awb.ws.restapi\\\\xCodgen\\\\target\\\\generated-sources\\\\openapi\\\\src\\\\main\\\\java\\\\de\\\\enflexit\\\\awb\\\\ws\\\\restapi\\\\gen\\\\factories\\\\ExecutionStateApiServiceFactory.java', \"[Errno 2] No such file or directory: 'data\\\\\\\\repos\\\\\\\\simulation\\\\\\\\AgentWorkbench\\\\\\\\eclipseProjects\\\\\\\\de.enflexit.awb\\\\\\\\bundles\\\\\\\\de.enflexit.awb.ws.restapi\\\\\\\\xCodgen\\\\\\\\target\\\\\\\\generated-sources\\\\\\\\openapi\\\\\\\\src\\\\\\\\main\\\\\\\\java\\\\\\\\de\\\\\\\\enflexit\\\\\\\\awb\\\\\\\\ws\\\\\\\\restapi\\\\\\\\gen\\\\\\\\factories\\\\\\\\ExecutionStateApiServiceFactory.java'\"), ('data\\\\repos\\\\simulation\\\\AgentWorkbench\\\\eclipseProjects\\\\de.enflexit.awb\\\\bundles\\\\de.enflexit.awb.ws.restapi\\\\xCodgen\\\\target\\\\generated-sources\\\\openapi\\\\src\\\\main\\\\java\\\\de\\\\enflexit\\\\awb\\\\ws\\\\restapi\\\\gen\\\\factories\\\\InfoApiServiceFactory.java', 'data\\\\categories\\\\simulation\\\\I-ORG\\\\AgentWorkbench\\\\eclipseProjects\\\\de.enflexit.awb\\\\bundles\\\\de.enflexit.awb.ws.restapi\\\\xCodgen\\\\target\\\\generated-sources\\\\openapi\\\\src\\\\main\\\\java\\\\de\\\\enflexit\\\\awb\\\\ws\\\\restapi\\\\gen\\\\factories\\\\InfoApiServiceFactory.java', \"[Errno 2] No such file or directory: 'data\\\\\\\\categories\\\\\\\\simulation\\\\\\\\I-ORG\\\\\\\\AgentWorkbench\\\\\\\\eclipseProjects\\\\\\\\de.enflexit.awb\\\\\\\\bundles\\\\\\\\de.enflexit.awb.ws.restapi\\\\\\\\xCodgen\\\\\\\\target\\\\\\\\generated-sources\\\\\\\\openapi\\\\\\\\src\\\\\\\\main\\\\\\\\java\\\\\\\\de\\\\\\\\enflexit\\\\\\\\awb\\\\\\\\ws\\\\\\\\restapi\\\\\\\\gen\\\\\\\\factories\\\\\\\\InfoApiServiceFactory.java'\"), ('data\\\\repos\\\\simulation\\\\AgentWorkbench\\\\eclipseProjects\\\\de.enflexit.awb\\\\bundles\\\\de.enflexit.awb.ws.restapi\\\\xCodgen\\\\target\\\\generated-sources\\\\openapi\\\\src\\\\main\\\\java\\\\de\\\\enflexit\\\\awb\\\\ws\\\\restapi\\\\gen\\\\factories\\\\InstallationDetailsApiServiceFactory.java', 'data\\\\categories\\\\simulation\\\\I-ORG\\\\AgentWorkbench\\\\eclipseProjects\\\\de.enflexit.awb\\\\bundles\\\\de.enflexit.awb.ws.restapi\\\\xCodgen\\\\target\\\\generated-sources\\\\openapi\\\\src\\\\main\\\\java\\\\de\\\\enflexit\\\\awb\\\\ws\\\\restapi\\\\gen\\\\factories\\\\InstallationDetailsApiServiceFactory.java', \"[Errno 2] No such file or directory: 'data\\\\\\\\repos\\\\\\\\simulation\\\\\\\\AgentWorkbench\\\\\\\\eclipseProjects\\\\\\\\de.enflexit.awb\\\\\\\\bundles\\\\\\\\de.enflexit.awb.ws.restapi\\\\\\\\xCodgen\\\\\\\\target\\\\\\\\generated-sources\\\\\\\\openapi\\\\\\\\src\\\\\\\\main\\\\\\\\java\\\\\\\\de\\\\\\\\enflexit\\\\\\\\awb\\\\\\\\ws\\\\\\\\restapi\\\\\\\\gen\\\\\\\\factories\\\\\\\\InstallationDetailsApiServiceFactory.java'\"), ('data\\\\repos\\\\simulation\\\\AgentWorkbench\\\\eclipseProjects\\\\de.enflexit.awb\\\\bundles\\\\de.enflexit.awb.ws.restapi\\\\xCodgen\\\\target\\\\generated-sources\\\\openapi\\\\src\\\\main\\\\java\\\\de\\\\enflexit\\\\awb\\\\ws\\\\restapi\\\\gen\\\\factories\\\\IsUpdateAvailableApiServiceFactory.java', 'data\\\\categories\\\\simulation\\\\I-ORG\\\\AgentWorkbench\\\\eclipseProjects\\\\de.enflexit.awb\\\\bundles\\\\de.enflexit.awb.ws.restapi\\\\xCodgen\\\\target\\\\generated-sources\\\\openapi\\\\src\\\\main\\\\java\\\\de\\\\enflexit\\\\awb\\\\ws\\\\restapi\\\\gen\\\\factories\\\\IsUpdateAvailableApiServiceFactory.java', \"[Errno 2] No such file or directory: 'data\\\\\\\\repos\\\\\\\\simulation\\\\\\\\AgentWorkbench\\\\\\\\eclipseProjects\\\\\\\\de.enflexit.awb\\\\\\\\bundles\\\\\\\\de.enflexit.awb.ws.restapi\\\\\\\\xCodgen\\\\\\\\target\\\\\\\\generated-sources\\\\\\\\openapi\\\\\\\\src\\\\\\\\main\\\\\\\\java\\\\\\\\de\\\\\\\\enflexit\\\\\\\\awb\\\\\\\\ws\\\\\\\\restapi\\\\\\\\gen\\\\\\\\factories\\\\\\\\IsUpdateAvailableApiServiceFactory.java'\"), ('data\\\\repos\\\\simulation\\\\AgentWorkbench\\\\eclipseProjects\\\\de.enflexit.awb\\\\bundles\\\\de.enflexit.awb.ws.restapi\\\\xCodgen\\\\target\\\\generated-sources\\\\openapi\\\\src\\\\main\\\\java\\\\de\\\\enflexit\\\\awb\\\\ws\\\\restapi\\\\gen\\\\factories\\\\LoadApiServiceFactory.java', 'data\\\\categories\\\\simulation\\\\I-ORG\\\\AgentWorkbench\\\\eclipseProjects\\\\de.enflexit.awb\\\\bundles\\\\de.enflexit.awb.ws.restapi\\\\xCodgen\\\\target\\\\generated-sources\\\\openapi\\\\src\\\\main\\\\java\\\\de\\\\enflexit\\\\awb\\\\ws\\\\restapi\\\\gen\\\\factories\\\\LoadApiServiceFactory.java', \"[Errno 2] No such file or directory: 'data\\\\\\\\categories\\\\\\\\simulation\\\\\\\\I-ORG\\\\\\\\AgentWorkbench\\\\\\\\eclipseProjects\\\\\\\\de.enflexit.awb\\\\\\\\bundles\\\\\\\\de.enflexit.awb.ws.restapi\\\\\\\\xCodgen\\\\\\\\target\\\\\\\\generated-sources\\\\\\\\openapi\\\\\\\\src\\\\\\\\main\\\\\\\\java\\\\\\\\de\\\\\\\\enflexit\\\\\\\\awb\\\\\\\\ws\\\\\\\\restapi\\\\\\\\gen\\\\\\\\factories\\\\\\\\LoadApiServiceFactory.java'\"), ('data\\\\repos\\\\simulation\\\\AgentWorkbench\\\\eclipseProjects\\\\de.enflexit.awb\\\\bundles\\\\de.enflexit.awb.ws.restapi\\\\xCodgen\\\\target\\\\generated-sources\\\\openapi\\\\src\\\\main\\\\java\\\\de\\\\enflexit\\\\awb\\\\ws\\\\restapi\\\\gen\\\\factories\\\\UserApiServiceFactory.java', 'data\\\\categories\\\\simulation\\\\I-ORG\\\\AgentWorkbench\\\\eclipseProjects\\\\de.enflexit.awb\\\\bundles\\\\de.enflexit.awb.ws.restapi\\\\xCodgen\\\\target\\\\generated-sources\\\\openapi\\\\src\\\\main\\\\java\\\\de\\\\enflexit\\\\awb\\\\ws\\\\restapi\\\\gen\\\\factories\\\\UserApiServiceFactory.java', \"[Errno 2] No such file or directory: 'data\\\\\\\\categories\\\\\\\\simulation\\\\\\\\I-ORG\\\\\\\\AgentWorkbench\\\\\\\\eclipseProjects\\\\\\\\de.enflexit.awb\\\\\\\\bundles\\\\\\\\de.enflexit.awb.ws.restapi\\\\\\\\xCodgen\\\\\\\\target\\\\\\\\generated-sources\\\\\\\\openapi\\\\\\\\src\\\\\\\\main\\\\\\\\java\\\\\\\\de\\\\\\\\enflexit\\\\\\\\awb\\\\\\\\ws\\\\\\\\restapi\\\\\\\\gen\\\\\\\\factories\\\\\\\\UserApiServiceFactory.java'\"), ('data\\\\repos\\\\simulation\\\\AgentWorkbench\\\\eclipseProjects\\\\de.enflexit.awb\\\\bundles\\\\de.enflexit.awb.ws.restapi\\\\xCodgen\\\\target\\\\generated-sources\\\\openapi\\\\src\\\\main\\\\java\\\\de\\\\enflexit\\\\awb\\\\ws\\\\restapi\\\\gen\\\\factories\\\\VersionApiServiceFactory.java', 'data\\\\categories\\\\simulation\\\\I-ORG\\\\AgentWorkbench\\\\eclipseProjects\\\\de.enflexit.awb\\\\bundles\\\\de.enflexit.awb.ws.restapi\\\\xCodgen\\\\target\\\\generated-sources\\\\openapi\\\\src\\\\main\\\\java\\\\de\\\\enflexit\\\\awb\\\\ws\\\\restapi\\\\gen\\\\factories\\\\VersionApiServiceFactory.java', \"[Errno 2] No such file or directory: 'data\\\\\\\\categories\\\\\\\\simulation\\\\\\\\I-ORG\\\\\\\\AgentWorkbench\\\\\\\\eclipseProjects\\\\\\\\de.enflexit.awb\\\\\\\\bundles\\\\\\\\de.enflexit.awb.ws.restapi\\\\\\\\xCodgen\\\\\\\\target\\\\\\\\generated-sources\\\\\\\\openapi\\\\\\\\src\\\\\\\\main\\\\\\\\java\\\\\\\\de\\\\\\\\enflexit\\\\\\\\awb\\\\\\\\ws\\\\\\\\restapi\\\\\\\\gen\\\\\\\\factories\\\\\\\\VersionApiServiceFactory.java'\"), ('data\\\\repos\\\\simulation\\\\AgentWorkbench\\\\eclipseProjects\\\\de.enflexit.awb\\\\bundles\\\\de.enflexit.awb.ws.restapi\\\\xCodgen\\\\target\\\\generated-sources\\\\openapi\\\\src\\\\main\\\\java\\\\de\\\\enflexit\\\\awb\\\\ws\\\\restapi\\\\gen\\\\impl\\\\DoRestartApiServiceImpl.java', 'data\\\\categories\\\\simulation\\\\I-ORG\\\\AgentWorkbench\\\\eclipseProjects\\\\de.enflexit.awb\\\\bundles\\\\de.enflexit.awb.ws.restapi\\\\xCodgen\\\\target\\\\generated-sources\\\\openapi\\\\src\\\\main\\\\java\\\\de\\\\enflexit\\\\awb\\\\ws\\\\restapi\\\\gen\\\\impl\\\\DoRestartApiServiceImpl.java', \"[Errno 2] No such file or directory: 'data\\\\\\\\categories\\\\\\\\simulation\\\\\\\\I-ORG\\\\\\\\AgentWorkbench\\\\\\\\eclipseProjects\\\\\\\\de.enflexit.awb\\\\\\\\bundles\\\\\\\\de.enflexit.awb.ws.restapi\\\\\\\\xCodgen\\\\\\\\target\\\\\\\\generated-sources\\\\\\\\openapi\\\\\\\\src\\\\\\\\main\\\\\\\\java\\\\\\\\de\\\\\\\\enflexit\\\\\\\\awb\\\\\\\\ws\\\\\\\\restapi\\\\\\\\gen\\\\\\\\impl\\\\\\\\DoRestartApiServiceImpl.java'\"), ('data\\\\repos\\\\simulation\\\\AgentWorkbench\\\\eclipseProjects\\\\de.enflexit.awb\\\\bundles\\\\de.enflexit.awb.ws.restapi\\\\xCodgen\\\\target\\\\generated-sources\\\\openapi\\\\src\\\\main\\\\java\\\\de\\\\enflexit\\\\awb\\\\ws\\\\restapi\\\\gen\\\\impl\\\\ExecutionStateApiServiceImpl.java', 'data\\\\categories\\\\simulation\\\\I-ORG\\\\AgentWorkbench\\\\eclipseProjects\\\\de.enflexit.awb\\\\bundles\\\\de.enflexit.awb.ws.restapi\\\\xCodgen\\\\target\\\\generated-sources\\\\openapi\\\\src\\\\main\\\\java\\\\de\\\\enflexit\\\\awb\\\\ws\\\\restapi\\\\gen\\\\impl\\\\ExecutionStateApiServiceImpl.java', \"[Errno 2] No such file or directory: 'data\\\\\\\\categories\\\\\\\\simulation\\\\\\\\I-ORG\\\\\\\\AgentWorkbench\\\\\\\\eclipseProjects\\\\\\\\de.enflexit.awb\\\\\\\\bundles\\\\\\\\de.enflexit.awb.ws.restapi\\\\\\\\xCodgen\\\\\\\\target\\\\\\\\generated-sources\\\\\\\\openapi\\\\\\\\src\\\\\\\\main\\\\\\\\java\\\\\\\\de\\\\\\\\enflexit\\\\\\\\awb\\\\\\\\ws\\\\\\\\restapi\\\\\\\\gen\\\\\\\\impl\\\\\\\\ExecutionStateApiServiceImpl.java'\"), ('data\\\\repos\\\\simulation\\\\AgentWorkbench\\\\eclipseProjects\\\\de.enflexit.awb\\\\bundles\\\\de.enflexit.awb.ws.restapi\\\\xCodgen\\\\target\\\\generated-sources\\\\openapi\\\\src\\\\main\\\\java\\\\de\\\\enflexit\\\\awb\\\\ws\\\\restapi\\\\gen\\\\impl\\\\InstallationDetailsApiServiceImpl.java', 'data\\\\categories\\\\simulation\\\\I-ORG\\\\AgentWorkbench\\\\eclipseProjects\\\\de.enflexit.awb\\\\bundles\\\\de.enflexit.awb.ws.restapi\\\\xCodgen\\\\target\\\\generated-sources\\\\openapi\\\\src\\\\main\\\\java\\\\de\\\\enflexit\\\\awb\\\\ws\\\\restapi\\\\gen\\\\impl\\\\InstallationDetailsApiServiceImpl.java', \"[Errno 2] No such file or directory: 'data\\\\\\\\categories\\\\\\\\simulation\\\\\\\\I-ORG\\\\\\\\AgentWorkbench\\\\\\\\eclipseProjects\\\\\\\\de.enflexit.awb\\\\\\\\bundles\\\\\\\\de.enflexit.awb.ws.restapi\\\\\\\\xCodgen\\\\\\\\target\\\\\\\\generated-sources\\\\\\\\openapi\\\\\\\\src\\\\\\\\main\\\\\\\\java\\\\\\\\de\\\\\\\\enflexit\\\\\\\\awb\\\\\\\\ws\\\\\\\\restapi\\\\\\\\gen\\\\\\\\impl\\\\\\\\InstallationDetailsApiServiceImpl.java'\"), ('data\\\\repos\\\\simulation\\\\AgentWorkbench\\\\eclipseProjects\\\\de.enflexit.awb\\\\bundles\\\\de.enflexit.awb.ws.restapi\\\\xCodgen\\\\target\\\\generated-sources\\\\openapi\\\\src\\\\main\\\\java\\\\de\\\\enflexit\\\\awb\\\\ws\\\\restapi\\\\gen\\\\impl\\\\IsUpdateAvailableApiServiceImpl.java', 'data\\\\categories\\\\simulation\\\\I-ORG\\\\AgentWorkbench\\\\eclipseProjects\\\\de.enflexit.awb\\\\bundles\\\\de.enflexit.awb.ws.restapi\\\\xCodgen\\\\target\\\\generated-sources\\\\openapi\\\\src\\\\main\\\\java\\\\de\\\\enflexit\\\\awb\\\\ws\\\\restapi\\\\gen\\\\impl\\\\IsUpdateAvailableApiServiceImpl.java', \"[Errno 2] No such file or directory: 'data\\\\\\\\categories\\\\\\\\simulation\\\\\\\\I-ORG\\\\\\\\AgentWorkbench\\\\\\\\eclipseProjects\\\\\\\\de.enflexit.awb\\\\\\\\bundles\\\\\\\\de.enflexit.awb.ws.restapi\\\\\\\\xCodgen\\\\\\\\target\\\\\\\\generated-sources\\\\\\\\openapi\\\\\\\\src\\\\\\\\main\\\\\\\\java\\\\\\\\de\\\\\\\\enflexit\\\\\\\\awb\\\\\\\\ws\\\\\\\\restapi\\\\\\\\gen\\\\\\\\impl\\\\\\\\IsUpdateAvailableApiServiceImpl.java'\"), ('data\\\\repos\\\\simulation\\\\AgentWorkbench\\\\eclipseProjects\\\\de.enflexit.awb\\\\examples\\\\de.enflexit.awb.samples.ws.restapi.client\\\\xCodgen\\\\target\\\\generated-sources\\\\openapi\\\\src\\\\main\\\\java\\\\de\\\\enflexit\\\\awb\\\\samples\\\\ws\\\\restapi\\\\client', 'data\\\\categories\\\\simulation\\\\I-ORG\\\\AgentWorkbench\\\\eclipseProjects\\\\de.enflexit.awb\\\\examples\\\\de.enflexit.awb.samples.ws.restapi.client\\\\xCodgen\\\\target\\\\generated-sources\\\\openapi\\\\src\\\\main\\\\java\\\\de\\\\enflexit\\\\awb\\\\samples\\\\ws\\\\restapi\\\\client', \"[WinError 206] The filename or extension is too long: 'data\\\\\\\\categories\\\\\\\\simulation\\\\\\\\I-ORG\\\\\\\\AgentWorkbench\\\\\\\\eclipseProjects\\\\\\\\de.enflexit.awb\\\\\\\\examples\\\\\\\\de.enflexit.awb.samples.ws.restapi.client\\\\\\\\xCodgen\\\\\\\\target\\\\\\\\generated-sources\\\\\\\\openapi\\\\\\\\src\\\\\\\\main\\\\\\\\java\\\\\\\\de\\\\\\\\enflexit\\\\\\\\awb\\\\\\\\samples\\\\\\\\ws\\\\\\\\restapi\\\\\\\\client'\"), ('data\\\\repos\\\\simulation\\\\AgentWorkbench\\\\eclipseProjects\\\\de.enflexit.awb\\\\examples\\\\de.enflexit.awb.samples.ws.restapi.server\\\\xCodgen\\\\target\\\\generated-sources\\\\openapi\\\\src\\\\gen\\\\java\\\\de\\\\enflexit\\\\awb\\\\samples\\\\ws\\\\restapi\\\\server', 'data\\\\categories\\\\simulation\\\\I-ORG\\\\AgentWorkbench\\\\eclipseProjects\\\\de.enflexit.awb\\\\examples\\\\de.enflexit.awb.samples.ws.restapi.server\\\\xCodgen\\\\target\\\\generated-sources\\\\openapi\\\\src\\\\gen\\\\java\\\\de\\\\enflexit\\\\awb\\\\samples\\\\ws\\\\restapi\\\\server', \"[WinError 206] The filename or extension is too long: 'data\\\\\\\\categories\\\\\\\\simulation\\\\\\\\I-ORG\\\\\\\\AgentWorkbench\\\\\\\\eclipseProjects\\\\\\\\de.enflexit.awb\\\\\\\\examples\\\\\\\\de.enflexit.awb.samples.ws.restapi.server\\\\\\\\xCodgen\\\\\\\\target\\\\\\\\generated-sources\\\\\\\\openapi\\\\\\\\src\\\\\\\\gen\\\\\\\\java\\\\\\\\de\\\\\\\\enflexit\\\\\\\\awb\\\\\\\\samples\\\\\\\\ws\\\\\\\\restapi\\\\\\\\server'\"), ('data\\\\repos\\\\simulation\\\\AgentWorkbench\\\\eclipseProjects\\\\de.enflexit.awb\\\\examples\\\\de.enflexit.awb.samples.ws.restapi.server\\\\xCodgen\\\\target\\\\generated-sources\\\\openapi\\\\src\\\\main\\\\java\\\\de\\\\enflexit\\\\awb\\\\samples\\\\ws\\\\restapi\\\\server', 'data\\\\categories\\\\simulation\\\\I-ORG\\\\AgentWorkbench\\\\eclipseProjects\\\\de.enflexit.awb\\\\examples\\\\de.enflexit.awb.samples.ws.restapi.server\\\\xCodgen\\\\target\\\\generated-sources\\\\openapi\\\\src\\\\main\\\\java\\\\de\\\\enflexit\\\\awb\\\\samples\\\\ws\\\\restapi\\\\server', \"[WinError 206] The filename or extension is too long: 'data\\\\\\\\categories\\\\\\\\simulation\\\\\\\\I-ORG\\\\\\\\AgentWorkbench\\\\\\\\eclipseProjects\\\\\\\\de.enflexit.awb\\\\\\\\examples\\\\\\\\de.enflexit.awb.samples.ws.restapi.server\\\\\\\\xCodgen\\\\\\\\target\\\\\\\\generated-sources\\\\\\\\openapi\\\\\\\\src\\\\\\\\main\\\\\\\\java\\\\\\\\de\\\\\\\\enflexit\\\\\\\\awb\\\\\\\\samples\\\\\\\\ws\\\\\\\\restapi\\\\\\\\server'\")]. Folder 'data\\repos\\simulation\\AgentWorkbench' cannot be copied\n",
      "Copied  data\\repos\\simulation\\AgentWorkbench to  data\\categories\\simulation\\I-ORG\\AgentWorkbench\n"
     ]
    },
    {
     "name": "stdout",
     "output_type": "stream",
     "text": [
      "Copied  data\\repos\\simulation\\amod to  data\\categories\\simulation\\I-ORG\\amod\n",
      "Copied  data\\repos\\simulation\\amodeus to  data\\categories\\simulation\\I-ORG\\amodeus\n",
      "Copied  data\\repos\\simulation\\annotation-simulator to  data\\categories\\simulation\\I-ORG\\annotation-simulator\n",
      "Copied  data\\repos\\simulation\\AutoInteraction-Library to  data\\categories\\simulation\\I-ORG\\AutoInteraction-Library\n",
      "Copied  data\\repos\\simulation\\Black-Scholes-Option-Pricing-Model to  data\\categories\\simulation\\I-ORG\\Black-Scholes-Option-Pricing-Model\n",
      "Copied  data\\repos\\simulation\\BoomChess-Android to  data\\categories\\simulation\\I-ORG\\BoomChess-Android\n",
      "Copied  data\\repos\\simulation\\cas to  data\\categories\\simulation\\I-ORG\\cas\n",
      "Copied  data\\repos\\simulation\\cloudsimplus to  data\\categories\\simulation\\I-ORG\\cloudsimplus\n",
      "Copied  data\\repos\\simulation\\cloudsimplus-automation to  data\\categories\\simulation\\I-ORG\\cloudsimplus-automation\n",
      "Copied  data\\repos\\simulation\\cloudsimplus-examples to  data\\categories\\simulation\\I-ORG\\cloudsimplus-examples\n",
      "Copied  data\\repos\\simulation\\cloudsimsdn to  data\\categories\\simulation\\I-ORG\\cloudsimsdn\n",
      "Copied  data\\repos\\simulation\\computer_kurzweil to  data\\categories\\simulation\\I-ORG\\computer_kurzweil\n",
      "Copied  data\\repos\\simulation\\DesSim to  data\\categories\\simulation\\I-ORG\\DesSim\n",
      "Copied  data\\repos\\simulation\\ecosim to  data\\categories\\simulation\\I-ORG\\ecosim\n",
      "Copied  data\\repos\\simulation\\end-game to  data\\categories\\simulation\\I-ORG\\end-game\n",
      "Copied  data\\repos\\simulation\\eqasim-java to  data\\categories\\simulation\\I-ORG\\eqasim-java\n",
      "Copied  data\\repos\\simulation\\EVLib to  data\\categories\\simulation\\I-ORG\\EVLib\n",
      "Copied  data\\repos\\simulation\\Evolving-Protozoa to  data\\categories\\simulation\\I-ORG\\Evolving-Protozoa\n",
      "Copied  data\\repos\\simulation\\finmath-lib to  data\\categories\\simulation\\I-ORG\\finmath-lib\n",
      "Copied  data\\repos\\simulation\\FlockingSimulation to  data\\categories\\simulation\\I-ORG\\FlockingSimulation\n",
      "Copied  data\\repos\\simulation\\gama to  data\\categories\\simulation\\I-ORG\\gama\n",
      "Copied  data\\repos\\simulation\\gips to  data\\categories\\simulation\\I-ORG\\gips\n",
      "Copied  data\\repos\\simulation\\iflye to  data\\categories\\simulation\\I-ORG\\iflye\n",
      "Copied  data\\repos\\simulation\\imp_city to  data\\categories\\simulation\\I-ORG\\imp_city\n",
      "Copied  data\\repos\\simulation\\JSimpleSim to  data\\categories\\simulation\\I-ORG\\JSimpleSim\n",
      "Copied  data\\repos\\simulation\\Logisim to  data\\categories\\simulation\\I-ORG\\Logisim\n",
      "Copied  data\\repos\\simulation\\mars-sim to  data\\categories\\simulation\\I-ORG\\mars-sim\n",
      "Copied  data\\repos\\simulation\\MATSim-UAM to  data\\categories\\simulation\\I-ORG\\MATSim-UAM\n",
      "Copied  data\\repos\\simulation\\microtrafficsim to  data\\categories\\simulation\\I-ORG\\microtrafficsim\n",
      "Copied  data\\repos\\simulation\\Mirage to  data\\categories\\simulation\\I-ORG\\Mirage\n",
      "Copied  data\\repos\\simulation\\MiSim to  data\\categories\\simulation\\I-ORG\\MiSim\n",
      "Copied  data\\repos\\simulation\\mosaic to  data\\categories\\simulation\\I-ORG\\mosaic\n",
      "Copied  data\\repos\\simulation\\multiphysics to  data\\categories\\simulation\\I-ORG\\multiphysics\n",
      "Copied  data\\repos\\simulation\\NeuGen to  data\\categories\\simulation\\I-ORG\\NeuGen\n",
      "Copied  data\\repos\\simulation\\ORBrake to  data\\categories\\simulation\\I-ORG\\ORBrake\n",
      "Copied  data\\repos\\simulation\\PAA-SimTool to  data\\categories\\simulation\\I-ORG\\PAA-SimTool\n",
      "Copied  data\\repos\\simulation\\Pandemic-Simulator to  data\\categories\\simulation\\I-ORG\\Pandemic-Simulator\n",
      "Copied  data\\repos\\simulation\\pedroEngine to  data\\categories\\simulation\\I-ORG\\pedroEngine\n",
      "Copied  data\\repos\\simulation\\plg to  data\\categories\\simulation\\I-ORG\\plg\n",
      "Copied  data\\repos\\simulation\\PowerSystemDataModel to  data\\categories\\simulation\\I-ORG\\PowerSystemDataModel\n",
      "Copied  data\\repos\\simulation\\PureEdgeSim to  data\\categories\\simulation\\I-ORG\\PureEdgeSim\n",
      "Copied  data\\repos\\simulation\\QSPcc to  data\\categories\\simulation\\I-ORG\\QSPcc\n",
      "Copied  data\\repos\\simulation\\react-native-ble-peripheral to  data\\categories\\simulation\\I-ORG\\react-native-ble-peripheral\n",
      "Copied  data\\repos\\simulation\\riscj-computer-mod to  data\\categories\\simulation\\I-ORG\\riscj-computer-mod\n",
      "Copied  data\\repos\\simulation\\Robot-Overlord-App to  data\\categories\\simulation\\I-ORG\\Robot-Overlord-App\n",
      "Copied  data\\repos\\simulation\\SASS to  data\\categories\\simulation\\I-ORG\\SASS\n",
      "Copied  data\\repos\\simulation\\ShapeOfThingsThatWere to  data\\categories\\simulation\\I-ORG\\ShapeOfThingsThatWere\n",
      "Copied  data\\repos\\simulation\\simulated-evolution to  data\\categories\\simulation\\I-ORG\\simulated-evolution\n",
      "Copied  data\\repos\\simulation\\simulation-construction-set-2 to  data\\categories\\simulation\\I-ORG\\simulation-construction-set-2\n",
      "Copied  data\\repos\\simulation\\sinalgo to  data\\categories\\simulation\\I-ORG\\sinalgo\n",
      "Copied  data\\repos\\simulation\\singa to  data\\categories\\simulation\\I-ORG\\singa\n",
      "Copied  data\\repos\\simulation\\skiverse to  data\\categories\\simulation\\I-ORG\\skiverse\n",
      "Copied  data\\repos\\simulation\\smockin to  data\\categories\\simulation\\I-ORG\\smockin\n",
      "Copied  data\\repos\\simulation\\supermarket-simulator to  data\\categories\\simulation\\I-ORG\\supermarket-simulator\n",
      "Copied  data\\repos\\simulation\\synthea to  data\\categories\\simulation\\I-ORG\\synthea\n",
      "Copied  data\\repos\\simulation\\tko-electronics-sim to  data\\categories\\simulation\\I-ORG\\tko-electronics-sim\n",
      "Copied  data\\repos\\simulation\\TraficCERN to  data\\categories\\simulation\\I-ORG\\TraficCERN\n",
      "Copied  data\\repos\\simulation\\TraJ to  data\\categories\\simulation\\I-ORG\\TraJ\n",
      "Copied  data\\repos\\simulation\\tumor-growth-simulation to  data\\categories\\simulation\\I-ORG\\tumor-growth-simulation\n",
      "Copied  data\\repos\\simulation\\universe-maker-app to  data\\categories\\simulation\\I-ORG\\universe-maker-app\n",
      "Copied  data\\repos\\simulation\\varsim to  data\\categories\\simulation\\I-ORG\\varsim\n",
      "Copied  data\\repos\\simulation\\workcraft to  data\\categories\\simulation\\I-ORG\\workcraft\n"
     ]
    }
   ],
   "source": [
    "import os\n",
    "import shutil \n",
    "\n",
    "repos_path = os.path.join('data', 'repos', 'simulation')\n",
    "cat_path = os.path.join('data', 'categories', 'simulation')\n",
    "\n",
    "for folder in os.listdir(repos_path):\n",
    "    folder_path = os.path.join(repos_path, folder)\n",
    "    entity_path = os.path.join(folder_path, 'entities.csv')\n",
    "    \n",
    "    try:\n",
    "        entity = pd.read_csv(entity_path)\n",
    "    except Exception as e:\n",
    "        print(\"An error occurred:\", e, \" at \", folder_path)\n",
    "        continue\n",
    "\n",
    "    max_row_index = df['Total Count'].idxmax()\n",
    "    max_row = df.iloc[max_row_index]\n",
    "    \n",
    "    entity_folder = os.path.join(cat_path, max_row['Entity'])\n",
    "    \n",
    "    if not os.path.exists(entity_folder):\n",
    "        os.mkdir(entity_folder)\n",
    "    \n",
    "    new_folder_path = os.path.join(entity_folder, folder)\n",
    "    \n",
    "    if os.path.exists(new_folder_path):\n",
    "        print(new_folder_path, \" Already present\")\n",
    "        continue\n",
    "    \n",
    "    try:\n",
    "        shutil.copytree(folder_path, new_folder_path)\n",
    "    except OSError as e:\n",
    "        print(f\"Error: {e}. Folder '{folder_path}' cannot be copied\")\n",
    "\n",
    "        \n",
    "    print(\"Copied \", folder_path, \"to \", new_folder_path)"
   ]
  },
  {
   "cell_type": "code",
   "execution_count": 5,
   "id": "f0bef498",
   "metadata": {},
   "outputs": [
    {
     "data": {
      "text/html": [
       "<div>\n",
       "<style scoped>\n",
       "    .dataframe tbody tr th:only-of-type {\n",
       "        vertical-align: middle;\n",
       "    }\n",
       "\n",
       "    .dataframe tbody tr th {\n",
       "        vertical-align: top;\n",
       "    }\n",
       "\n",
       "    .dataframe thead th {\n",
       "        text-align: right;\n",
       "    }\n",
       "</style>\n",
       "<table border=\"1\" class=\"dataframe\">\n",
       "  <thead>\n",
       "    <tr style=\"text-align: right;\">\n",
       "      <th></th>\n",
       "      <th>rank</th>\n",
       "      <th>item</th>\n",
       "      <th>repo_name</th>\n",
       "      <th>stars</th>\n",
       "      <th>forks</th>\n",
       "      <th>language</th>\n",
       "      <th>repo_url</th>\n",
       "      <th>username</th>\n",
       "      <th>issues</th>\n",
       "      <th>last_commit</th>\n",
       "      <th>description</th>\n",
       "    </tr>\n",
       "  </thead>\n",
       "  <tbody>\n",
       "    <tr>\n",
       "      <th>13</th>\n",
       "      <td>14</td>\n",
       "      <td>top-100-stars</td>\n",
       "      <td>CS-Notes</td>\n",
       "      <td>134809</td>\n",
       "      <td>43285</td>\n",
       "      <td>Java</td>\n",
       "      <td>https://github.com/CyC2018/CS-Notes</td>\n",
       "      <td>CyC2018</td>\n",
       "      <td>105</td>\n",
       "      <td>2021-06-30T00:42:05Z</td>\n",
       "      <td>:books: 技术面试必备基础知识、Leetcode、计算机操作系统、计算机网络、系统设计</td>\n",
       "    </tr>\n",
       "    <tr>\n",
       "      <th>23</th>\n",
       "      <td>24</td>\n",
       "      <td>top-100-stars</td>\n",
       "      <td>JavaGuide</td>\n",
       "      <td>107379</td>\n",
       "      <td>36867</td>\n",
       "      <td>Java</td>\n",
       "      <td>https://github.com/Snailclimb/JavaGuide</td>\n",
       "      <td>Snailclimb</td>\n",
       "      <td>54</td>\n",
       "      <td>2021-07-13T15:35:53Z</td>\n",
       "      <td>「Java学习+面试指南」一份涵盖大部分 Java 程序员所需要掌握的核心知识。准备 Jav...</td>\n",
       "    </tr>\n",
       "    <tr>\n",
       "      <th>51</th>\n",
       "      <td>52</td>\n",
       "      <td>top-100-stars</td>\n",
       "      <td>java-design-patterns</td>\n",
       "      <td>68846</td>\n",
       "      <td>21461</td>\n",
       "      <td>Java</td>\n",
       "      <td>https://github.com/iluwatar/java-design-patterns</td>\n",
       "      <td>iluwatar</td>\n",
       "      <td>268</td>\n",
       "      <td>2021-07-12T13:48:25Z</td>\n",
       "      <td>Design patterns implemented in Java</td>\n",
       "    </tr>\n",
       "    <tr>\n",
       "      <th>56</th>\n",
       "      <td>57</td>\n",
       "      <td>top-100-stars</td>\n",
       "      <td>LeetCodeAnimation</td>\n",
       "      <td>65586</td>\n",
       "      <td>12545</td>\n",
       "      <td>Java</td>\n",
       "      <td>https://github.com/MisterBooo/LeetCodeAnimation</td>\n",
       "      <td>MisterBooo</td>\n",
       "      <td>10</td>\n",
       "      <td>2021-06-24T03:37:31Z</td>\n",
       "      <td>Demonstrate all the questions on LeetCode in t...</td>\n",
       "    </tr>\n",
       "    <tr>\n",
       "      <th>72</th>\n",
       "      <td>73</td>\n",
       "      <td>top-100-stars</td>\n",
       "      <td>spring-boot</td>\n",
       "      <td>56209</td>\n",
       "      <td>34038</td>\n",
       "      <td>Java</td>\n",
       "      <td>https://github.com/spring-projects/spring-boot</td>\n",
       "      <td>spring-projects</td>\n",
       "      <td>500</td>\n",
       "      <td>2021-07-13T22:19:54Z</td>\n",
       "      <td>Spring Boot</td>\n",
       "    </tr>\n",
       "    <tr>\n",
       "      <th>...</th>\n",
       "      <td>...</td>\n",
       "      <td>...</td>\n",
       "      <td>...</td>\n",
       "      <td>...</td>\n",
       "      <td>...</td>\n",
       "      <td>...</td>\n",
       "      <td>...</td>\n",
       "      <td>...</td>\n",
       "      <td>...</td>\n",
       "      <td>...</td>\n",
       "      <td>...</td>\n",
       "    </tr>\n",
       "    <tr>\n",
       "      <th>1295</th>\n",
       "      <td>96</td>\n",
       "      <td>Java</td>\n",
       "      <td>Arduino</td>\n",
       "      <td>11892</td>\n",
       "      <td>6891</td>\n",
       "      <td>Java</td>\n",
       "      <td>https://github.com/arduino/Arduino</td>\n",
       "      <td>arduino</td>\n",
       "      <td>862</td>\n",
       "      <td>2021-06-24T03:28:45Z</td>\n",
       "      <td>open-source electronics platform</td>\n",
       "    </tr>\n",
       "    <tr>\n",
       "      <th>1296</th>\n",
       "      <td>97</td>\n",
       "      <td>Java</td>\n",
       "      <td>AndroidViewAnimations</td>\n",
       "      <td>11864</td>\n",
       "      <td>2399</td>\n",
       "      <td>Java</td>\n",
       "      <td>https://github.com/daimajia/AndroidViewAnimations</td>\n",
       "      <td>daimajia</td>\n",
       "      <td>60</td>\n",
       "      <td>2021-06-05T04:58:04Z</td>\n",
       "      <td>Cute view animation collection.</td>\n",
       "    </tr>\n",
       "    <tr>\n",
       "      <th>1297</th>\n",
       "      <td>98</td>\n",
       "      <td>Java</td>\n",
       "      <td>JustAuth</td>\n",
       "      <td>11782</td>\n",
       "      <td>2099</td>\n",
       "      <td>Java</td>\n",
       "      <td>https://github.com/justauth/JustAuth</td>\n",
       "      <td>justauth</td>\n",
       "      <td>27</td>\n",
       "      <td>2021-07-06T15:53:10Z</td>\n",
       "      <td>🏆Gitee 最有价值开源项目 🚀:100: 小而全而美的第三方登录开源组件。目前已支持Gi...</td>\n",
       "    </tr>\n",
       "    <tr>\n",
       "      <th>1298</th>\n",
       "      <td>99</td>\n",
       "      <td>Java</td>\n",
       "      <td>hadoop</td>\n",
       "      <td>11766</td>\n",
       "      <td>7286</td>\n",
       "      <td>Java</td>\n",
       "      <td>https://github.com/apache/hadoop</td>\n",
       "      <td>apache</td>\n",
       "      <td>442</td>\n",
       "      <td>2021-07-14T01:27:16Z</td>\n",
       "      <td>Apache Hadoop</td>\n",
       "    </tr>\n",
       "    <tr>\n",
       "      <th>1299</th>\n",
       "      <td>100</td>\n",
       "      <td>Java</td>\n",
       "      <td>AndroidAutoSize</td>\n",
       "      <td>11617</td>\n",
       "      <td>1676</td>\n",
       "      <td>Java</td>\n",
       "      <td>https://github.com/JessYanCoding/AndroidAutoSize</td>\n",
       "      <td>JessYanCoding</td>\n",
       "      <td>63</td>\n",
       "      <td>2021-06-24T10:47:54Z</td>\n",
       "      <td>🔥 A low-cost Android screen adaptation solutio...</td>\n",
       "    </tr>\n",
       "  </tbody>\n",
       "</table>\n",
       "<p>116 rows × 11 columns</p>\n",
       "</div>"
      ],
      "text/plain": [
       "      rank           item              repo_name   stars  forks language  \\\n",
       "13      14  top-100-stars               CS-Notes  134809  43285     Java   \n",
       "23      24  top-100-stars              JavaGuide  107379  36867     Java   \n",
       "51      52  top-100-stars   java-design-patterns   68846  21461     Java   \n",
       "56      57  top-100-stars      LeetCodeAnimation   65586  12545     Java   \n",
       "72      73  top-100-stars            spring-boot   56209  34038     Java   \n",
       "...    ...            ...                    ...     ...    ...      ...   \n",
       "1295    96           Java                Arduino   11892   6891     Java   \n",
       "1296    97           Java  AndroidViewAnimations   11864   2399     Java   \n",
       "1297    98           Java               JustAuth   11782   2099     Java   \n",
       "1298    99           Java                 hadoop   11766   7286     Java   \n",
       "1299   100           Java        AndroidAutoSize   11617   1676     Java   \n",
       "\n",
       "                                               repo_url         username  \\\n",
       "13                  https://github.com/CyC2018/CS-Notes          CyC2018   \n",
       "23              https://github.com/Snailclimb/JavaGuide       Snailclimb   \n",
       "51     https://github.com/iluwatar/java-design-patterns         iluwatar   \n",
       "56      https://github.com/MisterBooo/LeetCodeAnimation       MisterBooo   \n",
       "72       https://github.com/spring-projects/spring-boot  spring-projects   \n",
       "...                                                 ...              ...   \n",
       "1295                 https://github.com/arduino/Arduino          arduino   \n",
       "1296  https://github.com/daimajia/AndroidViewAnimations         daimajia   \n",
       "1297               https://github.com/justauth/JustAuth         justauth   \n",
       "1298                   https://github.com/apache/hadoop           apache   \n",
       "1299   https://github.com/JessYanCoding/AndroidAutoSize    JessYanCoding   \n",
       "\n",
       "      issues           last_commit  \\\n",
       "13       105  2021-06-30T00:42:05Z   \n",
       "23        54  2021-07-13T15:35:53Z   \n",
       "51       268  2021-07-12T13:48:25Z   \n",
       "56        10  2021-06-24T03:37:31Z   \n",
       "72       500  2021-07-13T22:19:54Z   \n",
       "...      ...                   ...   \n",
       "1295     862  2021-06-24T03:28:45Z   \n",
       "1296      60  2021-06-05T04:58:04Z   \n",
       "1297      27  2021-07-06T15:53:10Z   \n",
       "1298     442  2021-07-14T01:27:16Z   \n",
       "1299      63  2021-06-24T10:47:54Z   \n",
       "\n",
       "                                            description  \n",
       "13       :books: 技术面试必备基础知识、Leetcode、计算机操作系统、计算机网络、系统设计  \n",
       "23    「Java学习+面试指南」一份涵盖大部分 Java 程序员所需要掌握的核心知识。准备 Jav...  \n",
       "51                  Design patterns implemented in Java  \n",
       "56    Demonstrate all the questions on LeetCode in t...  \n",
       "72                                          Spring Boot  \n",
       "...                                                 ...  \n",
       "1295                   open-source electronics platform  \n",
       "1296                    Cute view animation collection.  \n",
       "1297  🏆Gitee 最有价值开源项目 🚀:100: 小而全而美的第三方登录开源组件。目前已支持Gi...  \n",
       "1298                                      Apache Hadoop  \n",
       "1299  🔥 A low-cost Android screen adaptation solutio...  \n",
       "\n",
       "[116 rows x 11 columns]"
      ]
     },
     "execution_count": 5,
     "metadata": {},
     "output_type": "execute_result"
    }
   ],
   "source": [
    "import pandas as pd\n",
    "\n",
    "a = pd.read_csv(\"C:/Users/riasa/Downloads/Most starred Github Repositories.csv\")\n",
    "a = a[a['language'] == 'Java']\n",
    "a"
   ]
  }
 ],
 "metadata": {
  "kernelspec": {
   "display_name": "Python 3 (ipykernel)",
   "language": "python",
   "name": "python3"
  },
  "language_info": {
   "codemirror_mode": {
    "name": "ipython",
    "version": 3
   },
   "file_extension": ".py",
   "mimetype": "text/x-python",
   "name": "python",
   "nbconvert_exporter": "python",
   "pygments_lexer": "ipython3",
   "version": "3.11.8"
  }
 },
 "nbformat": 4,
 "nbformat_minor": 5
}
